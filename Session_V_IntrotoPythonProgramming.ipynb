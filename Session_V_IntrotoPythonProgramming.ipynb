{
  "nbformat": 4,
  "nbformat_minor": 0,
  "metadata": {
    "colab": {
      "name": "Session-V-IntrotoPythonProgramming.ipynb",
      "provenance": [],
      "collapsed_sections": [],
      "authorship_tag": "ABX9TyO7b//ruyZaMars6tX6Qzzv",
      "include_colab_link": true
    },
    "kernelspec": {
      "name": "python3",
      "display_name": "Python 3"
    },
    "language_info": {
      "name": "python"
    }
  },
  "cells": [
    {
      "cell_type": "markdown",
      "metadata": {
        "id": "view-in-github",
        "colab_type": "text"
      },
      "source": [
        "<a href=\"https://colab.research.google.com/github/LondonInternational/Data-Science-Batch-A-OCTAIML2021/blob/main/Session_V_IntrotoPythonProgramming.ipynb\" target=\"_parent\"><img src=\"https://colab.research.google.com/assets/colab-badge.svg\" alt=\"Open In Colab\"/></a>"
      ]
    },
    {
      "cell_type": "code",
      "metadata": {
        "id": "TNYU_Lze-W-p"
      },
      "source": [
        "# Data Structures: List, Set, Tuple & Dictionary"
      ],
      "execution_count": 1,
      "outputs": []
    },
    {
      "cell_type": "code",
      "metadata": {
        "colab": {
          "base_uri": "https://localhost:8080/"
        },
        "id": "i2XJRyqje9Eg",
        "outputId": "1c4ac597-d8b6-40c1-e979-aafff760c500"
      },
      "source": [
        "x = 90\n",
        "y = 100\n",
        "z = 34\n",
        "d = 67\n",
        "print(x+y+z+d)"
      ],
      "execution_count": 2,
      "outputs": [
        {
          "output_type": "stream",
          "name": "stdout",
          "text": [
            "291\n"
          ]
        }
      ]
    },
    {
      "cell_type": "code",
      "metadata": {
        "colab": {
          "base_uri": "https://localhost:8080/"
        },
        "id": "F4ab7-1RfLkj",
        "outputId": "097ee011-e580-478f-d352-5fcd330ea0ec"
      },
      "source": [
        "# List \n",
        "numList = [90, 100, 34, 67]\n",
        "print(numList)"
      ],
      "execution_count": 3,
      "outputs": [
        {
          "output_type": "stream",
          "name": "stdout",
          "text": [
            "[90, 100, 34, 67]\n"
          ]
        }
      ]
    },
    {
      "cell_type": "code",
      "metadata": {
        "colab": {
          "base_uri": "https://localhost:8080/"
        },
        "id": "Q7MtuKnyfYQa",
        "outputId": "9560208f-ca60-4c23-90f1-b6ac742b8fa0"
      },
      "source": [
        "sumi = 0\n",
        "for item in numList:\n",
        "  sumi = sumi + item  \n",
        "print(sumi)\n",
        "print(sum(numList))"
      ],
      "execution_count": 6,
      "outputs": [
        {
          "output_type": "stream",
          "name": "stdout",
          "text": [
            "291\n",
            "291\n"
          ]
        }
      ]
    },
    {
      "cell_type": "code",
      "metadata": {
        "colab": {
          "base_uri": "https://localhost:8080/"
        },
        "id": "DoL3fvz4g90W",
        "outputId": "94dda62f-303a-4a38-9708-a5aaa2970ca0"
      },
      "source": [
        "sum([4,5,6,7])"
      ],
      "execution_count": 5,
      "outputs": [
        {
          "output_type": "execute_result",
          "data": {
            "text/plain": [
              "22"
            ]
          },
          "metadata": {},
          "execution_count": 5
        }
      ]
    },
    {
      "cell_type": "code",
      "metadata": {
        "colab": {
          "base_uri": "https://localhost:8080/"
        },
        "id": "ocTxyr8Phdng",
        "outputId": "7abb116a-9977-42b5-e4df-5d90ea5192fd"
      },
      "source": [
        "# Create a empty List \n",
        "xList = []\n",
        "print(xList)"
      ],
      "execution_count": 7,
      "outputs": [
        {
          "output_type": "stream",
          "name": "stdout",
          "text": [
            "[]\n"
          ]
        }
      ]
    },
    {
      "cell_type": "code",
      "metadata": {
        "colab": {
          "base_uri": "https://localhost:8080/"
        },
        "id": "zkI7E6FQh1Io",
        "outputId": "dae37b43-bba1-4bc4-b97c-761bbf0cfce3"
      },
      "source": [
        "# List is heterogenous in nature  - it can hold mixed type of elements\n",
        "xList = [34,56,'sata',67.89]\n",
        "print(xList)"
      ],
      "execution_count": 10,
      "outputs": [
        {
          "output_type": "stream",
          "name": "stdout",
          "text": [
            "[34, 56, 'sata', 67.89]\n"
          ]
        }
      ]
    },
    {
      "cell_type": "code",
      "metadata": {
        "colab": {
          "base_uri": "https://localhost:8080/"
        },
        "id": "L94PZ5u1h7OY",
        "outputId": "43c3e539-3cda-4057-fd3c-b32d57a967a3"
      },
      "source": [
        "# List supports indexing mechanism - index starts with 0 - positive index/negative index\n",
        "#  pos index starts with 0 -> first element\n",
        "# negative starts with -1 -> last element\n",
        "xList = [34,56,689,44,778]\n",
        "\n",
        "print(xList[0]) # first element\n",
        "print(xList[2]) # third element\n",
        "print(xList[-1]) # last element\n",
        "print(xList[-2]) # second last element\n",
        "print(xList[-5]) # first element\n"
      ],
      "execution_count": 17,
      "outputs": [
        {
          "output_type": "stream",
          "name": "stdout",
          "text": [
            "34\n",
            "689\n",
            "778\n",
            "44\n",
            "34\n"
          ]
        }
      ]
    },
    {
      "cell_type": "code",
      "metadata": {
        "colab": {
          "base_uri": "https://localhost:8080/",
          "height": 167
        },
        "id": "mHLg1CNxjdgv",
        "outputId": "d555b672-5182-4513-a100-9d0b48d90f23"
      },
      "source": [
        "print(xList[20]) #  no element -> indexerror"
      ],
      "execution_count": 18,
      "outputs": [
        {
          "output_type": "error",
          "ename": "IndexError",
          "evalue": "ignored",
          "traceback": [
            "\u001b[0;31m---------------------------------------------------------------------------\u001b[0m",
            "\u001b[0;31mIndexError\u001b[0m                                Traceback (most recent call last)",
            "\u001b[0;32m<ipython-input-18-94e255e482ab>\u001b[0m in \u001b[0;36m<module>\u001b[0;34m()\u001b[0m\n\u001b[0;32m----> 1\u001b[0;31m \u001b[0mprint\u001b[0m\u001b[0;34m(\u001b[0m\u001b[0mxList\u001b[0m\u001b[0;34m[\u001b[0m\u001b[0;36m20\u001b[0m\u001b[0;34m]\u001b[0m\u001b[0;34m)\u001b[0m \u001b[0;31m#  element\u001b[0m\u001b[0;34m\u001b[0m\u001b[0;34m\u001b[0m\u001b[0m\n\u001b[0m",
            "\u001b[0;31mIndexError\u001b[0m: list index out of range"
          ]
        }
      ]
    },
    {
      "cell_type": "code",
      "metadata": {
        "colab": {
          "base_uri": "https://localhost:8080/",
          "height": 167
        },
        "id": "A0e0O-2VjukA",
        "outputId": "c0726f0e-6df3-4c6b-b55f-b1776d0eb4a7"
      },
      "source": [
        "print(xList[-20]) #  no element -> indexerror"
      ],
      "execution_count": 19,
      "outputs": [
        {
          "output_type": "error",
          "ename": "IndexError",
          "evalue": "ignored",
          "traceback": [
            "\u001b[0;31m---------------------------------------------------------------------------\u001b[0m",
            "\u001b[0;31mIndexError\u001b[0m                                Traceback (most recent call last)",
            "\u001b[0;32m<ipython-input-19-ddedaa744f27>\u001b[0m in \u001b[0;36m<module>\u001b[0;34m()\u001b[0m\n\u001b[0;32m----> 1\u001b[0;31m \u001b[0mprint\u001b[0m\u001b[0;34m(\u001b[0m\u001b[0mxList\u001b[0m\u001b[0;34m[\u001b[0m\u001b[0;34m-\u001b[0m\u001b[0;36m20\u001b[0m\u001b[0;34m]\u001b[0m\u001b[0;34m)\u001b[0m \u001b[0;31m#  no element -> indexerror\u001b[0m\u001b[0;34m\u001b[0m\u001b[0;34m\u001b[0m\u001b[0m\n\u001b[0m",
            "\u001b[0;31mIndexError\u001b[0m: list index out of range"
          ]
        }
      ]
    },
    {
      "cell_type": "code",
      "metadata": {
        "colab": {
          "base_uri": "https://localhost:8080/"
        },
        "id": "99PGrSo4j3Z4",
        "outputId": "10720144-a4cd-47d1-8b05-dc4f5d461e20"
      },
      "source": [
        "numList = [34,56,31] # 34*56*31 -> 59024\n",
        "\n",
        "result = 1\n",
        "for item in numList:\n",
        "  result = result * item  \n",
        "\n",
        "print(result)\n"
      ],
      "execution_count": 20,
      "outputs": [
        {
          "output_type": "stream",
          "name": "stdout",
          "text": [
            "59024\n"
          ]
        }
      ]
    },
    {
      "cell_type": "code",
      "metadata": {
        "colab": {
          "base_uri": "https://localhost:8080/"
        },
        "id": "lpIgNrKOlE-S",
        "outputId": "7f01dff3-46f2-4a76-8005-e58dd1f63d26"
      },
      "source": [
        "# append() -> add one element in a list - last position\n",
        "\n",
        "xList = [2,3,4]\n",
        "print(xList)\n",
        "xList.append(100)\n",
        "print(xList)\n",
        "\n",
        "\n",
        "xList = [2,3,4]\n",
        "print(xList)\n",
        "xList.append([100,34,56])\n",
        "print(xList)\n"
      ],
      "execution_count": 24,
      "outputs": [
        {
          "output_type": "stream",
          "name": "stdout",
          "text": [
            "[2, 3, 4]\n",
            "[2, 3, 4, 100]\n",
            "[2, 3, 4]\n",
            "[2, 3, 4, [100, 34, 56]]\n"
          ]
        }
      ]
    },
    {
      "cell_type": "code",
      "metadata": {
        "colab": {
          "base_uri": "https://localhost:8080/"
        },
        "id": "E4CWrLPSlw_r",
        "outputId": "8ee1b643-d9f8-433e-f78f-5a00c275f177"
      },
      "source": [
        "# extend() -> add several elements in a list - last position\n",
        "\n",
        "xList = [2,3,4]\n",
        "print(xList)\n",
        "xList.extend([100,34,56])\n",
        "print(xList)\n"
      ],
      "execution_count": 23,
      "outputs": [
        {
          "output_type": "stream",
          "name": "stdout",
          "text": [
            "[2, 3, 4]\n",
            "[2, 3, 4, 100, 34, 56]\n"
          ]
        }
      ]
    },
    {
      "cell_type": "code",
      "metadata": {
        "colab": {
          "base_uri": "https://localhost:8080/"
        },
        "id": "DlmNchjpmNTk",
        "outputId": "2825a702-bf3d-4526-a998-48f258056b0f"
      },
      "source": [
        "xlist = [45,67,87]\n",
        "xlist.append('amit')\n",
        "print(xlist)"
      ],
      "execution_count": 25,
      "outputs": [
        {
          "output_type": "stream",
          "name": "stdout",
          "text": [
            "[45, 67, 87, 'amit']\n"
          ]
        }
      ]
    },
    {
      "cell_type": "code",
      "metadata": {
        "colab": {
          "base_uri": "https://localhost:8080/"
        },
        "id": "HevKi-qOmpX-",
        "outputId": "92ccfc2f-a345-41f6-f375-4fffcdd17bc9"
      },
      "source": [
        "xlist = [45,67,87]\n",
        "xlist.extend('amit')\n",
        "print(xlist)"
      ],
      "execution_count": 26,
      "outputs": [
        {
          "output_type": "stream",
          "name": "stdout",
          "text": [
            "[45, 67, 87, 'a', 'm', 'i', 't']\n"
          ]
        }
      ]
    },
    {
      "cell_type": "code",
      "metadata": {
        "colab": {
          "base_uri": "https://localhost:8080/"
        },
        "id": "Uv_Hx7AYm8Cs",
        "outputId": "c6c4063d-3840-4706-870e-263ef3f252d4"
      },
      "source": [
        "xlist = [45,67,87]\n",
        "xlist.append([67,100])\n",
        "print(xlist)"
      ],
      "execution_count": 27,
      "outputs": [
        {
          "output_type": "stream",
          "name": "stdout",
          "text": [
            "[45, 67, 87, [67, 100]]\n"
          ]
        }
      ]
    },
    {
      "cell_type": "code",
      "metadata": {
        "colab": {
          "base_uri": "https://localhost:8080/"
        },
        "id": "qRAFub6onASU",
        "outputId": "13ed270f-40be-4f8c-e0fb-cc36a87d246e"
      },
      "source": [
        "xlist = [45,67,87]\n",
        "xlist.extend([67,100])\n",
        "print(xlist)"
      ],
      "execution_count": 28,
      "outputs": [
        {
          "output_type": "stream",
          "name": "stdout",
          "text": [
            "[45, 67, 87, 67, 100]\n"
          ]
        }
      ]
    },
    {
      "cell_type": "code",
      "metadata": {
        "colab": {
          "base_uri": "https://localhost:8080/"
        },
        "id": "bIDM1cnInGFk",
        "outputId": "10956a13-41e0-4bd9-ff49-03a081c783a1"
      },
      "source": [
        "xlist = [45,67,87]\n",
        "xlist.append(100)\n",
        "print(xlist)\n"
      ],
      "execution_count": 30,
      "outputs": [
        {
          "output_type": "stream",
          "name": "stdout",
          "text": [
            "[45, 67, 87, 100]\n"
          ]
        }
      ]
    },
    {
      "cell_type": "code",
      "metadata": {
        "colab": {
          "base_uri": "https://localhost:8080/",
          "height": 202
        },
        "id": "Wr9Yqp3snfDx",
        "outputId": "92a6bf3d-5c30-46d9-a3b0-3e40dc9162d9"
      },
      "source": [
        "xlist = [45,67,87]\n",
        "xlist.extend(100)\n",
        "print(xlist)"
      ],
      "execution_count": 31,
      "outputs": [
        {
          "output_type": "error",
          "ename": "TypeError",
          "evalue": "ignored",
          "traceback": [
            "\u001b[0;31m---------------------------------------------------------------------------\u001b[0m",
            "\u001b[0;31mTypeError\u001b[0m                                 Traceback (most recent call last)",
            "\u001b[0;32m<ipython-input-31-8af0bfcdcded>\u001b[0m in \u001b[0;36m<module>\u001b[0;34m()\u001b[0m\n\u001b[1;32m      1\u001b[0m \u001b[0mxlist\u001b[0m \u001b[0;34m=\u001b[0m \u001b[0;34m[\u001b[0m\u001b[0;36m45\u001b[0m\u001b[0;34m,\u001b[0m\u001b[0;36m67\u001b[0m\u001b[0;34m,\u001b[0m\u001b[0;36m87\u001b[0m\u001b[0;34m]\u001b[0m\u001b[0;34m\u001b[0m\u001b[0;34m\u001b[0m\u001b[0m\n\u001b[0;32m----> 2\u001b[0;31m \u001b[0mxlist\u001b[0m\u001b[0;34m.\u001b[0m\u001b[0mextend\u001b[0m\u001b[0;34m(\u001b[0m\u001b[0;36m100\u001b[0m\u001b[0;34m)\u001b[0m\u001b[0;34m\u001b[0m\u001b[0;34m\u001b[0m\u001b[0m\n\u001b[0m\u001b[1;32m      3\u001b[0m \u001b[0mprint\u001b[0m\u001b[0;34m(\u001b[0m\u001b[0mxlist\u001b[0m\u001b[0;34m)\u001b[0m\u001b[0;34m\u001b[0m\u001b[0;34m\u001b[0m\u001b[0m\n",
            "\u001b[0;31mTypeError\u001b[0m: 'int' object is not iterable"
          ]
        }
      ]
    },
    {
      "cell_type": "code",
      "metadata": {
        "colab": {
          "base_uri": "https://localhost:8080/"
        },
        "id": "89kTIH92npjl",
        "outputId": "c806af07-2c96-4958-da6c-412d1e03f675"
      },
      "source": [
        "xlist = [45,67,87]\n",
        "xlist.extend([100])\n",
        "print(xlist)"
      ],
      "execution_count": 32,
      "outputs": [
        {
          "output_type": "stream",
          "name": "stdout",
          "text": [
            "[45, 67, 87, 100]\n"
          ]
        }
      ]
    },
    {
      "cell_type": "code",
      "metadata": {
        "colab": {
          "base_uri": "https://localhost:8080/"
        },
        "id": "wCdSD-rgn38H",
        "outputId": "5ffb3831-101d-47f2-8487-b49b6ab723aa"
      },
      "source": [
        "xlist = [45,67,87]\n",
        "xlist.insert(2,4000) # insert(index,item) function\n",
        "print(xlist)"
      ],
      "execution_count": 33,
      "outputs": [
        {
          "output_type": "stream",
          "name": "stdout",
          "text": [
            "[45, 67, 4000, 87]\n"
          ]
        }
      ]
    },
    {
      "cell_type": "code",
      "metadata": {
        "colab": {
          "base_uri": "https://localhost:8080/"
        },
        "id": "DiDQlL-hoKhg",
        "outputId": "19a84db6-1998-4c59-ec96-5bb94cfa114a"
      },
      "source": [
        "xlist = [45,67,87]\n",
        "xlist.remove(67) # remove(value) function\n",
        "print(xlist)"
      ],
      "execution_count": 34,
      "outputs": [
        {
          "output_type": "stream",
          "name": "stdout",
          "text": [
            "[45, 87]\n"
          ]
        }
      ]
    },
    {
      "cell_type": "code",
      "metadata": {
        "colab": {
          "base_uri": "https://localhost:8080/"
        },
        "id": "6Qat4KVXoe2Y",
        "outputId": "b6b7d1f0-2a1e-49ec-f2c3-212ac4a13965"
      },
      "source": [
        "xlist = [45,67,87]\n",
        "xlist.pop(0) # remove(index) function - remove value at index\n",
        "print(xlist)"
      ],
      "execution_count": 36,
      "outputs": [
        {
          "output_type": "stream",
          "name": "stdout",
          "text": [
            "[67, 87]\n"
          ]
        }
      ]
    },
    {
      "cell_type": "code",
      "metadata": {
        "colab": {
          "base_uri": "https://localhost:8080/"
        },
        "id": "XB2B437FouWz",
        "outputId": "43f5c8a0-153d-4a98-ddec-f1db7b83e7da"
      },
      "source": [
        "xlist = [45,67,4500,5000,87]\n",
        "print(xlist.index(5000))"
      ],
      "execution_count": 38,
      "outputs": [
        {
          "output_type": "stream",
          "name": "stdout",
          "text": [
            "3\n"
          ]
        }
      ]
    },
    {
      "cell_type": "code",
      "metadata": {
        "colab": {
          "base_uri": "https://localhost:8080/"
        },
        "id": "z25ZAHanpIGX",
        "outputId": "14099037-7bc4-4180-b7d2-15371eca632c"
      },
      "source": [
        "# List Slicing\n",
        "\n",
        "xlist = [45,67,4500,5000,8,7,'lo']\n",
        "\n",
        "print(xlist[2:4]) # listname[startindex:stopindex]\n",
        "print(xlist[3:]) \n",
        "print(xlist[-1:-4:-1]) # listname[startindex:stopindex:step] \n",
        "print(xlist[2:5]) \n",
        "\n"
      ],
      "execution_count": 42,
      "outputs": [
        {
          "output_type": "stream",
          "name": "stdout",
          "text": [
            "[4500, 5000]\n",
            "[5000, 8, 7, 'lo']\n",
            "['lo', 7, 8]\n",
            "[4500, 5000, 8]\n"
          ]
        }
      ]
    },
    {
      "cell_type": "code",
      "metadata": {
        "colab": {
          "base_uri": "https://localhost:8080/"
        },
        "id": "nNKlokEpqLGc",
        "outputId": "6f5a890e-c12c-4a7b-cb85-36b256641133"
      },
      "source": [
        " # listname[startindex:stopindex:step]\n",
        "numList = [3,4,5,6,7,60,9] # 3,5,7,9\n",
        "print(numList[0::2])"
      ],
      "execution_count": 43,
      "outputs": [
        {
          "output_type": "stream",
          "name": "stdout",
          "text": [
            "[3, 5, 7, 9]\n"
          ]
        }
      ]
    },
    {
      "cell_type": "code",
      "metadata": {
        "colab": {
          "base_uri": "https://localhost:8080/"
        },
        "id": "tf_5HUJtrMyI",
        "outputId": "4c028291-eba5-4297-a66a-a73df3e0a38a"
      },
      "source": [
        "alList=[]\n",
        "for number in range(65,91):\n",
        "  alList.append(chr(number))\n",
        "\n",
        "print(alList)"
      ],
      "execution_count": 44,
      "outputs": [
        {
          "output_type": "stream",
          "name": "stdout",
          "text": [
            "['A', 'B', 'C', 'D', 'E', 'F', 'G', 'H', 'I', 'J', 'K', 'L', 'M', 'N', 'O', 'P', 'Q', 'R', 'S', 'T', 'U', 'V', 'W', 'X', 'Y', 'Z']\n"
          ]
        }
      ]
    },
    {
      "cell_type": "code",
      "metadata": {
        "colab": {
          "base_uri": "https://localhost:8080/"
        },
        "id": "Strv3eIHrrf0",
        "outputId": "462c9a97-fa56-4a22-d81d-a3cdbbbda38c"
      },
      "source": [
        "# fetch every 4th letter from alList [ startindex : stopindex : step]\n",
        "alList[0::4] # sublist or slice of list"
      ],
      "execution_count": 45,
      "outputs": [
        {
          "output_type": "execute_result",
          "data": {
            "text/plain": [
              "['A', 'E', 'I', 'M', 'Q', 'U', 'Y']"
            ]
          },
          "metadata": {},
          "execution_count": 45
        }
      ]
    },
    {
      "cell_type": "code",
      "metadata": {
        "colab": {
          "base_uri": "https://localhost:8080/"
        },
        "id": "Aya1Y87_sxtK",
        "outputId": "7e220953-55e5-49d3-c2eb-4ed8d933c4a2"
      },
      "source": [
        "# reverse a list, alList [ startindex : stopindex : step]\n",
        "alList[-1::-2]"
      ],
      "execution_count": 48,
      "outputs": [
        {
          "output_type": "execute_result",
          "data": {
            "text/plain": [
              "['Z', 'X', 'V', 'T', 'R', 'P', 'N', 'L', 'J', 'H', 'F', 'D', 'B']"
            ]
          },
          "metadata": {},
          "execution_count": 48
        }
      ]
    },
    {
      "cell_type": "code",
      "metadata": {
        "id": "oAyfgEBCsIX4"
      },
      "source": [
        "# # reverse a list, alList [ startindex : stopindex : step]\n",
        "# alList[-1::-1]"
      ],
      "execution_count": 49,
      "outputs": []
    },
    {
      "cell_type": "code",
      "metadata": {
        "colab": {
          "base_uri": "https://localhost:8080/"
        },
        "id": "ggwZyYPXtBkS",
        "outputId": "6eaa8adc-e17a-4a98-dfa8-e78aedd2826c"
      },
      "source": [
        "alList[:]"
      ],
      "execution_count": 50,
      "outputs": [
        {
          "output_type": "execute_result",
          "data": {
            "text/plain": [
              "['A',\n",
              " 'B',\n",
              " 'C',\n",
              " 'D',\n",
              " 'E',\n",
              " 'F',\n",
              " 'G',\n",
              " 'H',\n",
              " 'I',\n",
              " 'J',\n",
              " 'K',\n",
              " 'L',\n",
              " 'M',\n",
              " 'N',\n",
              " 'O',\n",
              " 'P',\n",
              " 'Q',\n",
              " 'R',\n",
              " 'S',\n",
              " 'T',\n",
              " 'U',\n",
              " 'V',\n",
              " 'W',\n",
              " 'X',\n",
              " 'Y',\n",
              " 'Z']"
            ]
          },
          "metadata": {},
          "execution_count": 50
        }
      ]
    },
    {
      "cell_type": "code",
      "metadata": {
        "colab": {
          "base_uri": "https://localhost:8080/"
        },
        "id": "NmcFXS6ltHjt",
        "outputId": "ebc0fd1c-01b2-4a02-b002-662baa565d5a"
      },
      "source": [
        "alList[::]"
      ],
      "execution_count": 51,
      "outputs": [
        {
          "output_type": "execute_result",
          "data": {
            "text/plain": [
              "['A',\n",
              " 'B',\n",
              " 'C',\n",
              " 'D',\n",
              " 'E',\n",
              " 'F',\n",
              " 'G',\n",
              " 'H',\n",
              " 'I',\n",
              " 'J',\n",
              " 'K',\n",
              " 'L',\n",
              " 'M',\n",
              " 'N',\n",
              " 'O',\n",
              " 'P',\n",
              " 'Q',\n",
              " 'R',\n",
              " 'S',\n",
              " 'T',\n",
              " 'U',\n",
              " 'V',\n",
              " 'W',\n",
              " 'X',\n",
              " 'Y',\n",
              " 'Z']"
            ]
          },
          "metadata": {},
          "execution_count": 51
        }
      ]
    },
    {
      "cell_type": "code",
      "metadata": {
        "colab": {
          "base_uri": "https://localhost:8080/"
        },
        "id": "L7-2oyo1tOWo",
        "outputId": "2e3ef674-82d5-4680-afc5-c52dda1e7c27"
      },
      "source": [
        "len(alList)"
      ],
      "execution_count": 52,
      "outputs": [
        {
          "output_type": "execute_result",
          "data": {
            "text/plain": [
              "26"
            ]
          },
          "metadata": {},
          "execution_count": 52
        }
      ]
    },
    {
      "cell_type": "code",
      "metadata": {
        "colab": {
          "base_uri": "https://localhost:8080/"
        },
        "id": "LhXJpVpCtTTo",
        "outputId": "338d6efd-4a9e-4d22-cfa0-882fd6cb62f2"
      },
      "source": [
        "numList = [8,7,8,56]\n",
        "print(sum(numList))"
      ],
      "execution_count": 53,
      "outputs": [
        {
          "output_type": "stream",
          "name": "stdout",
          "text": [
            "79\n"
          ]
        }
      ]
    },
    {
      "cell_type": "code",
      "metadata": {
        "colab": {
          "base_uri": "https://localhost:8080/"
        },
        "id": "vFO7Ii-eta0I",
        "outputId": "13459cb1-c7b2-4d5f-ec2a-f05b7b78466b"
      },
      "source": [
        "numList = [8,7,8,56]\n",
        "print(sorted(numList)) # ascending order\n",
        "print(sorted(numList,reverse=True)) # descending order\n",
        "numList.sort()\n",
        "print(numList)"
      ],
      "execution_count": 58,
      "outputs": [
        {
          "output_type": "stream",
          "name": "stdout",
          "text": [
            "[7, 8, 8, 56]\n",
            "[56, 8, 8, 7]\n",
            "[7, 8, 8, 56]\n"
          ]
        }
      ]
    },
    {
      "cell_type": "code",
      "metadata": {
        "id": "FpbbPcXitatD"
      },
      "source": [
        "# List Methods: append,extend,index,remove,pop,sort,count,reverse,clear\n",
        "# Built-in Functions: len,type,isinstance,print,input,sorted,sum,del,max,min"
      ],
      "execution_count": null,
      "outputs": []
    },
    {
      "cell_type": "code",
      "metadata": {
        "colab": {
          "base_uri": "https://localhost:8080/"
        },
        "id": "WvJ3aSv0tajv",
        "outputId": "f74667c8-abdb-4ed3-a3a1-221faac8fe50"
      },
      "source": [
        "numList = [8,7,8,56]\n",
        "print(numList.count(8))"
      ],
      "execution_count": 60,
      "outputs": [
        {
          "output_type": "stream",
          "name": "stdout",
          "text": [
            "2\n"
          ]
        }
      ]
    },
    {
      "cell_type": "code",
      "metadata": {
        "colab": {
          "base_uri": "https://localhost:8080/"
        },
        "id": "RN2xc4aBu9KG",
        "outputId": "17cdcf53-5255-4996-e6be-31ac7ec99f0a"
      },
      "source": [
        "numList = [8,7,8,56]\n",
        "numList.reverse()\n",
        "print(numList)"
      ],
      "execution_count": 61,
      "outputs": [
        {
          "output_type": "stream",
          "name": "stdout",
          "text": [
            "[56, 8, 7, 8]\n"
          ]
        }
      ]
    },
    {
      "cell_type": "code",
      "metadata": {
        "colab": {
          "base_uri": "https://localhost:8080/"
        },
        "id": "saFP59WtvE87",
        "outputId": "3d80f565-b1c4-4067-c222-9e271f6f0143"
      },
      "source": [
        "numList = [8,7,8,56]\n",
        "numList.clear()\n",
        "print(numList)"
      ],
      "execution_count": 62,
      "outputs": [
        {
          "output_type": "stream",
          "name": "stdout",
          "text": [
            "[]\n"
          ]
        }
      ]
    },
    {
      "cell_type": "code",
      "metadata": {
        "colab": {
          "base_uri": "https://localhost:8080/"
        },
        "id": "3dO3EddYv6_7",
        "outputId": "17f0044c-d522-4631-faf8-d36316966d7d"
      },
      "source": [
        "numList = [8,7,800,500,67,8,23,6]\n",
        "del numList[1:3] # delete multiple elements from list\n",
        "print(numList)"
      ],
      "execution_count": 66,
      "outputs": [
        {
          "output_type": "stream",
          "name": "stdout",
          "text": [
            "[8, 500, 67, 8, 23, 6]\n"
          ]
        }
      ]
    },
    {
      "cell_type": "code",
      "metadata": {
        "colab": {
          "base_uri": "https://localhost:8080/"
        },
        "id": "mi7aNHOWwhkv",
        "outputId": "a456ed03-92ff-493f-d477-76f9d7828587"
      },
      "source": [
        "numList = [8,7,800,500,67,8,23,6]\n",
        "del numList[2] # delete a single element from list\n",
        "print(numList)"
      ],
      "execution_count": 68,
      "outputs": [
        {
          "output_type": "stream",
          "name": "stdout",
          "text": [
            "[8, 7, 500, 67, 8, 23, 6]\n"
          ]
        }
      ]
    },
    {
      "cell_type": "code",
      "metadata": {
        "colab": {
          "base_uri": "https://localhost:8080/",
          "height": 202
        },
        "id": "EyoHbmiHvhc4",
        "outputId": "a5be674a-0173-4893-b092-0b67ad5fbd71"
      },
      "source": [
        "numList = [8,7,8,56]\n",
        "del numList  # deleted an entire list\n",
        "print(numList)"
      ],
      "execution_count": 63,
      "outputs": [
        {
          "output_type": "error",
          "ename": "NameError",
          "evalue": "ignored",
          "traceback": [
            "\u001b[0;31m---------------------------------------------------------------------------\u001b[0m",
            "\u001b[0;31mNameError\u001b[0m                                 Traceback (most recent call last)",
            "\u001b[0;32m<ipython-input-63-02219d992150>\u001b[0m in \u001b[0;36m<module>\u001b[0;34m()\u001b[0m\n\u001b[1;32m      1\u001b[0m \u001b[0mnumList\u001b[0m \u001b[0;34m=\u001b[0m \u001b[0;34m[\u001b[0m\u001b[0;36m8\u001b[0m\u001b[0;34m,\u001b[0m\u001b[0;36m7\u001b[0m\u001b[0;34m,\u001b[0m\u001b[0;36m8\u001b[0m\u001b[0;34m,\u001b[0m\u001b[0;36m56\u001b[0m\u001b[0;34m]\u001b[0m\u001b[0;34m\u001b[0m\u001b[0;34m\u001b[0m\u001b[0m\n\u001b[1;32m      2\u001b[0m \u001b[0;32mdel\u001b[0m \u001b[0mnumList\u001b[0m\u001b[0;34m\u001b[0m\u001b[0;34m\u001b[0m\u001b[0m\n\u001b[0;32m----> 3\u001b[0;31m \u001b[0mprint\u001b[0m\u001b[0;34m(\u001b[0m\u001b[0mnumList\u001b[0m\u001b[0;34m)\u001b[0m\u001b[0;34m\u001b[0m\u001b[0;34m\u001b[0m\u001b[0m\n\u001b[0m",
            "\u001b[0;31mNameError\u001b[0m: name 'numList' is not defined"
          ]
        }
      ]
    },
    {
      "cell_type": "code",
      "metadata": {
        "colab": {
          "base_uri": "https://localhost:8080/"
        },
        "id": "KZhm6YVBvrzZ",
        "outputId": "e47e7bf9-e5c7-4329-c3c8-8b154a89dc92"
      },
      "source": [
        "numList = [8,7,8,56]\n",
        "print(45 in numList)\n",
        "print(45 not in numList)"
      ],
      "execution_count": 64,
      "outputs": [
        {
          "output_type": "stream",
          "name": "stdout",
          "text": [
            "False\n",
            "True\n"
          ]
        }
      ]
    },
    {
      "cell_type": "code",
      "metadata": {
        "id": "usZSdvrMv5S0"
      },
      "source": [
        "# Python program to interchange first and last elements in a list\n",
        "# Python program to swap two elements in a list\n",
        "# Python | Ways to find length of list\n",
        "# Python | Ways to check if element exists in list\n",
        "# Different ways to clear a list in Python\n",
        "# Python | Reversing a List\n",
        "# Python program to find sum of elements in list\n",
        "# Python | Multiply all numbers in the list\n",
        "# Python program to find smallest number in a list\n",
        "# Python program to find largest number in a list\n",
        "# Python program to find second largest number in a list\n",
        "# Python program to find N largest elements from a list\n",
        "# Python program to print even numbers in a list\n",
        "# Python program to print odd numbers in a List\n",
        "# Python program to print all even numbers in a range\n",
        "# Python program to print all odd numbers in a range\n",
        "# Python program to print positive numbers in a list\n",
        "# Python program to print negative numbers in a list\n",
        "# Python program to print all positive numbers in a range\n",
        "# Python program to print all negative numbers in a range\n",
        "# Remove multiple elements from a list in Python\n",
        "# Python – Remove empty List from List\n",
        "# Python | Count occurrences of an element in a list\n",
        "# Python | Program to print duplicates from a list of integers\n",
        "# Python | Sum of number digits in List\n",
        "# Break a list into chunks of size N in Python\n",
        "# Python | Sort the values of first list using second list"
      ],
      "execution_count": null,
      "outputs": []
    }
  ]
}