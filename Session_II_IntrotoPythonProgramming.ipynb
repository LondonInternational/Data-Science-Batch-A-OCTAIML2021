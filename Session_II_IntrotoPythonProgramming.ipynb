{
  "nbformat": 4,
  "nbformat_minor": 0,
  "metadata": {
    "colab": {
      "name": "Session-II-IntrotoPythonProgramming.ipynb",
      "provenance": [],
      "collapsed_sections": [],
      "authorship_tag": "ABX9TyMe5v3Q2kH86E4p4TVLIioE",
      "include_colab_link": true
    },
    "kernelspec": {
      "name": "python3",
      "display_name": "Python 3"
    },
    "language_info": {
      "name": "python"
    }
  },
  "cells": [
    {
      "cell_type": "markdown",
      "metadata": {
        "id": "view-in-github",
        "colab_type": "text"
      },
      "source": [
        "<a href=\"https://colab.research.google.com/github/LondonInternational/Data-Science-Batch-A-OCTAIML2021/blob/main/Session_II_IntrotoPythonProgramming.ipynb\" target=\"_parent\"><img src=\"https://colab.research.google.com/assets/colab-badge.svg\" alt=\"Open In Colab\"/></a>"
      ]
    },
    {
      "cell_type": "code",
      "metadata": {
        "id": "XsybwhxQDu8Y",
        "colab": {
          "base_uri": "https://localhost:8080/"
        },
        "outputId": "d2ede99d-cabf-48ef-e88c-3951a9ab6e80"
      },
      "source": [
        "# User Input\n",
        "print(\"Enter any number: \")\n",
        "X = input() # always return the string, so you will convert it into required type\n",
        "print(type(X))\n",
        "X = int(X) # convert X to integer type - type-conversion [str -> int]\n",
        "print('--------------------')\n",
        "print(X)\n",
        "print(type(X))\n",
        "\n"
      ],
      "execution_count": 12,
      "outputs": [
        {
          "output_type": "stream",
          "name": "stdout",
          "text": [
            "Enter any number: \n",
            "34\n",
            "<class 'str'>\n",
            "--------------------\n",
            "34\n",
            "<class 'int'>\n"
          ]
        }
      ]
    },
    {
      "cell_type": "code",
      "metadata": {
        "colab": {
          "base_uri": "https://localhost:8080/",
          "height": 163
        },
        "id": "scqavotgKwci",
        "outputId": "ed75032f-c7c6-496b-a64a-fbd586e11ea4"
      },
      "source": [
        "int('cat')"
      ],
      "execution_count": 5,
      "outputs": [
        {
          "output_type": "error",
          "ename": "ValueError",
          "evalue": "ignored",
          "traceback": [
            "\u001b[0;31m---------------------------------------------------------------------------\u001b[0m",
            "\u001b[0;31mValueError\u001b[0m                                Traceback (most recent call last)",
            "\u001b[0;32m<ipython-input-5-1c6b28888bbe>\u001b[0m in \u001b[0;36m<module>\u001b[0;34m()\u001b[0m\n\u001b[0;32m----> 1\u001b[0;31m \u001b[0mint\u001b[0m\u001b[0;34m(\u001b[0m\u001b[0;34m'cat'\u001b[0m\u001b[0;34m)\u001b[0m\u001b[0;34m\u001b[0m\u001b[0;34m\u001b[0m\u001b[0m\n\u001b[0m",
            "\u001b[0;31mValueError\u001b[0m: invalid literal for int() with base 10: 'cat'"
          ]
        }
      ]
    },
    {
      "cell_type": "code",
      "metadata": {
        "colab": {
          "base_uri": "https://localhost:8080/"
        },
        "id": "Fnr20RvGK9R-",
        "outputId": "122bfee2-3062-4576-d8b8-089188879570"
      },
      "source": [
        "int('8')"
      ],
      "execution_count": 9,
      "outputs": [
        {
          "output_type": "execute_result",
          "data": {
            "text/plain": [
              "8"
            ]
          },
          "metadata": {},
          "execution_count": 9
        }
      ]
    },
    {
      "cell_type": "code",
      "metadata": {
        "colab": {
          "base_uri": "https://localhost:8080/"
        },
        "id": "JuYLMt4cLYQc",
        "outputId": "b1610cf7-6ca1-4193-d69b-b66c4d835cfc"
      },
      "source": [
        "int(8.945)"
      ],
      "execution_count": 10,
      "outputs": [
        {
          "output_type": "execute_result",
          "data": {
            "text/plain": [
              "8"
            ]
          },
          "metadata": {},
          "execution_count": 10
        }
      ]
    },
    {
      "cell_type": "code",
      "metadata": {
        "colab": {
          "base_uri": "https://localhost:8080/",
          "height": 163
        },
        "id": "RirnnjIBLBGe",
        "outputId": "14c4a9cb-fb01-45ff-d0d3-fcf3adefdd3d"
      },
      "source": [
        "int('eight')"
      ],
      "execution_count": 7,
      "outputs": [
        {
          "output_type": "error",
          "ename": "ValueError",
          "evalue": "ignored",
          "traceback": [
            "\u001b[0;31m---------------------------------------------------------------------------\u001b[0m",
            "\u001b[0;31mValueError\u001b[0m                                Traceback (most recent call last)",
            "\u001b[0;32m<ipython-input-7-71b6ca4a844e>\u001b[0m in \u001b[0;36m<module>\u001b[0;34m()\u001b[0m\n\u001b[0;32m----> 1\u001b[0;31m \u001b[0mint\u001b[0m\u001b[0;34m(\u001b[0m\u001b[0;34m'eight'\u001b[0m\u001b[0;34m)\u001b[0m\u001b[0;34m\u001b[0m\u001b[0;34m\u001b[0m\u001b[0m\n\u001b[0m",
            "\u001b[0;31mValueError\u001b[0m: invalid literal for int() with base 10: 'eight'"
          ]
        }
      ]
    },
    {
      "cell_type": "code",
      "metadata": {
        "colab": {
          "base_uri": "https://localhost:8080/"
        },
        "id": "rVFsPRW5LxLO",
        "outputId": "3ad3f38c-7991-4a7b-9cb5-cebc55f1b0c5"
      },
      "source": [
        "print('Enter any number')\n",
        "Y = input()\n",
        "Y = int(Y)\n",
        "print(Y)"
      ],
      "execution_count": 13,
      "outputs": [
        {
          "output_type": "stream",
          "name": "stdout",
          "text": [
            "Enter any number\n",
            "34\n",
            "34\n"
          ]
        }
      ]
    },
    {
      "cell_type": "code",
      "metadata": {
        "colab": {
          "base_uri": "https://localhost:8080/"
        },
        "id": "ftGIwLlXL8o5",
        "outputId": "5439091a-b445-46f0-f179-d46cef7e470a"
      },
      "source": [
        "Y = int(input('Enter any number :'))\n",
        "print(Y)"
      ],
      "execution_count": 16,
      "outputs": [
        {
          "output_type": "stream",
          "name": "stdout",
          "text": [
            "Enter any number :34\n",
            "34\n"
          ]
        }
      ]
    },
    {
      "cell_type": "code",
      "metadata": {
        "colab": {
          "base_uri": "https://localhost:8080/"
        },
        "id": "fFu_XK0mMSof",
        "outputId": "b84e2c79-9959-472b-ef38-f6aa4ae8ba0c"
      },
      "source": [
        "print(int(input('Enter any number :')))"
      ],
      "execution_count": 17,
      "outputs": [
        {
          "output_type": "stream",
          "name": "stdout",
          "text": [
            "Enter any number :34\n",
            "34\n"
          ]
        }
      ]
    },
    {
      "cell_type": "code",
      "metadata": {
        "colab": {
          "base_uri": "https://localhost:8080/"
        },
        "id": "rYplOCS6MZHU",
        "outputId": "cdf1b965-8b6a-4692-9fa3-3fc0dcebcc04"
      },
      "source": [
        "# Loop Structures [for, while]\n",
        "\n",
        "print('Hello')\n",
        "print('Hello')\n",
        "print('Hello')\n",
        "print('Hello')\n",
        "print('Hello')\n",
        "\n",
        "for loopCount in range"
      ],
      "execution_count": 19,
      "outputs": [
        {
          "output_type": "stream",
          "name": "stdout",
          "text": [
            "Hello\n",
            "Hello\n",
            "Hello\n",
            "Hello\n",
            "Hello\n"
          ]
        }
      ]
    },
    {
      "cell_type": "code",
      "metadata": {
        "colab": {
          "base_uri": "https://localhost:8080/"
        },
        "id": "gFFzKOCxNLgy",
        "outputId": "2a993a04-2249-4a31-ab1d-b650230948f9"
      },
      "source": [
        "# range(start,stop,step) ---> generates the range till the value less than stopvalue\n",
        "list(range(9,45,2))"
      ],
      "execution_count": 22,
      "outputs": [
        {
          "output_type": "execute_result",
          "data": {
            "text/plain": [
              "[9, 11, 13, 15, 17, 19, 21, 23, 25, 27, 29, 31, 33, 35, 37, 39, 41, 43]"
            ]
          },
          "metadata": {},
          "execution_count": 22
        }
      ]
    },
    {
      "cell_type": "code",
      "metadata": {
        "colab": {
          "base_uri": "https://localhost:8080/"
        },
        "id": "pbdHMrlyN_QL",
        "outputId": "7e1f414f-8316-4346-b386-e08fa5032c93"
      },
      "source": [
        "list(range(0,12,2))"
      ],
      "execution_count": 25,
      "outputs": [
        {
          "output_type": "execute_result",
          "data": {
            "text/plain": [
              "[0, 2, 4, 6, 8, 10]"
            ]
          },
          "metadata": {},
          "execution_count": 25
        }
      ]
    },
    {
      "cell_type": "code",
      "metadata": {
        "colab": {
          "base_uri": "https://localhost:8080/"
        },
        "id": "ZCmsY4ztOXRn",
        "outputId": "70890d41-86c2-4ee3-e116-16c7ea4c1cca"
      },
      "source": [
        "list(range(10,0,-1))"
      ],
      "execution_count": 26,
      "outputs": [
        {
          "output_type": "execute_result",
          "data": {
            "text/plain": [
              "[10, 9, 8, 7, 6, 5, 4, 3, 2, 1]"
            ]
          },
          "metadata": {},
          "execution_count": 26
        }
      ]
    },
    {
      "cell_type": "code",
      "metadata": {
        "colab": {
          "base_uri": "https://localhost:8080/"
        },
        "id": "QmnymcV0OgwK",
        "outputId": "1c066c30-270e-4db4-9c8c-1df949322501"
      },
      "source": [
        "# range(start,stop,step) \n",
        "list(range(0,23,-1))"
      ],
      "execution_count": 30,
      "outputs": [
        {
          "output_type": "execute_result",
          "data": {
            "text/plain": [
              "[]"
            ]
          },
          "metadata": {},
          "execution_count": 30
        }
      ]
    },
    {
      "cell_type": "code",
      "metadata": {
        "colab": {
          "base_uri": "https://localhost:8080/"
        },
        "id": "hCAi0WJvPP7z",
        "outputId": "d9c6d986-1731-4741-9969-887c4f5691c5"
      },
      "source": [
        "# range(stop)  # start will be 0, step will be 1\n",
        "list(range(10))"
      ],
      "execution_count": 31,
      "outputs": [
        {
          "output_type": "execute_result",
          "data": {
            "text/plain": [
              "[0, 1, 2, 3, 4, 5, 6, 7, 8, 9]"
            ]
          },
          "metadata": {},
          "execution_count": 31
        }
      ]
    },
    {
      "cell_type": "code",
      "metadata": {
        "colab": {
          "base_uri": "https://localhost:8080/"
        },
        "id": "2OiuDKQvP8yb",
        "outputId": "4350e7c4-d4d9-4e83-f146-2ab85c16ba46"
      },
      "source": [
        "numList = list(range(10))\n",
        "\n",
        "print(len(numList))"
      ],
      "execution_count": 33,
      "outputs": [
        {
          "output_type": "stream",
          "name": "stdout",
          "text": [
            "10\n"
          ]
        }
      ]
    },
    {
      "cell_type": "code",
      "metadata": {
        "colab": {
          "base_uri": "https://localhost:8080/"
        },
        "id": "mQsZlkX6PkXw",
        "outputId": "943b127d-19c8-4a23-c93e-90b8ee44bc69"
      },
      "source": [
        "for item in list(range(10)):\n",
        "  print('hello')"
      ],
      "execution_count": 34,
      "outputs": [
        {
          "output_type": "stream",
          "name": "stdout",
          "text": [
            "hello\n",
            "hello\n",
            "hello\n",
            "hello\n",
            "hello\n",
            "hello\n",
            "hello\n",
            "hello\n",
            "hello\n",
            "hello\n"
          ]
        }
      ]
    },
    {
      "cell_type": "code",
      "metadata": {
        "colab": {
          "base_uri": "https://localhost:8080/"
        },
        "id": "4HT920CbQHTd",
        "outputId": "49342e75-2f86-4b16-8789-19e6dab2fb63"
      },
      "source": [
        "for item in range(10):\n",
        "  print('hello')"
      ],
      "execution_count": 35,
      "outputs": [
        {
          "output_type": "stream",
          "name": "stdout",
          "text": [
            "hello\n",
            "hello\n",
            "hello\n",
            "hello\n",
            "hello\n",
            "hello\n",
            "hello\n",
            "hello\n",
            "hello\n",
            "hello\n"
          ]
        }
      ]
    },
    {
      "cell_type": "code",
      "metadata": {
        "colab": {
          "base_uri": "https://localhost:8080/"
        },
        "id": "4KV17mNCQOeE",
        "outputId": "c8084d1a-896b-4bcc-f784-2d54b567e52b"
      },
      "source": [
        "# WAP to print table 2 -> 2,4,6,8...20\n",
        "for num in range(2,21,2):\n",
        "  print(num,end=',')"
      ],
      "execution_count": 41,
      "outputs": [
        {
          "output_type": "stream",
          "name": "stdout",
          "text": [
            "2,4,6,8,10,12,14,16,18,20,"
          ]
        }
      ]
    },
    {
      "cell_type": "code",
      "metadata": {
        "colab": {
          "base_uri": "https://localhost:8080/"
        },
        "id": "2hF8CNe3Qg82",
        "outputId": "5edf0a11-dbb3-4736-c8f6-64ede6917cf2"
      },
      "source": [
        "len(range(2,21,2)) # it gives length of range of numbers"
      ],
      "execution_count": 37,
      "outputs": [
        {
          "output_type": "execute_result",
          "data": {
            "text/plain": [
              "10"
            ]
          },
          "metadata": {},
          "execution_count": 37
        }
      ]
    },
    {
      "cell_type": "code",
      "metadata": {
        "colab": {
          "base_uri": "https://localhost:8080/"
        },
        "id": "xwLfwrlDQr7v",
        "outputId": "78064954-9645-45ea-dcd1-5f6f3891e095"
      },
      "source": [
        "# WAP to print the series of numbers - 9,14,19,......<76\n",
        "\n",
        "for num in range(9,76,5):\n",
        "  print(num,end=',')"
      ],
      "execution_count": 40,
      "outputs": [
        {
          "output_type": "stream",
          "name": "stdout",
          "text": [
            "9,14,19,24,29,34,39,44,49,54,59,64,69,74,"
          ]
        }
      ]
    },
    {
      "cell_type": "code",
      "metadata": {
        "colab": {
          "base_uri": "https://localhost:8080/"
        },
        "id": "o98S5FVMR0Zi",
        "outputId": "91530dbc-7b57-45ff-c022-06d3fd71461f"
      },
      "source": [
        "list(range(9,76,5))"
      ],
      "execution_count": 39,
      "outputs": [
        {
          "output_type": "execute_result",
          "data": {
            "text/plain": [
              "[9, 14, 19, 24, 29, 34, 39, 44, 49, 54, 59, 64, 69, 74]"
            ]
          },
          "metadata": {},
          "execution_count": 39
        }
      ]
    },
    {
      "cell_type": "code",
      "metadata": {
        "colab": {
          "base_uri": "https://localhost:8080/"
        },
        "id": "Z5rKQ3miSOvY",
        "outputId": "4bb554be-d179-4cef-8706-67dd01f6f7f9"
      },
      "source": [
        "# 1,2,3,4,5,....50\n",
        "for num in range(1,51,1):\n",
        "  print(num,end=',')\n"
      ],
      "execution_count": 50,
      "outputs": [
        {
          "output_type": "stream",
          "name": "stdout",
          "text": [
            "1,2,3,4,5,6,7,8,9,10,11,12,13,14,15,16,17,18,19,20,21,22,23,24,25,26,27,28,29,30,31,32,33,34,35,36,37,38,39,40,41,42,43,44,45,46,47,48,49,50,"
          ]
        }
      ]
    },
    {
      "cell_type": "code",
      "metadata": {
        "colab": {
          "base_uri": "https://localhost:8080/"
        },
        "id": "gXFHVU77WEv4",
        "outputId": "9e609fca-5a85-43a7-cb55-b882a5ca14bf"
      },
      "source": [
        "# 2,4,6,8,...<56\n",
        "for num in range(2,56,2):\n",
        "  print(num,end=',')\n"
      ],
      "execution_count": 51,
      "outputs": [
        {
          "output_type": "stream",
          "name": "stdout",
          "text": [
            "2,4,6,8,10,12,14,16,18,20,22,24,26,28,30,32,34,36,38,40,42,44,46,48,50,52,54,"
          ]
        }
      ]
    },
    {
      "cell_type": "code",
      "metadata": {
        "colab": {
          "base_uri": "https://localhost:8080/"
        },
        "id": "FmFKf8a7V_qN",
        "outputId": "2e9d3de4-ef2a-4c0a-e108-1245d5d6d0f4"
      },
      "source": [
        "# -10,-20,-30,-40,..>-71\n",
        "print()\n",
        "for num in range(-10,-72,-10):\n",
        "  print(num,end=',')\n"
      ],
      "execution_count": 48,
      "outputs": [
        {
          "output_type": "stream",
          "name": "stdout",
          "text": [
            "\n",
            "-10,-20,-30,-40,-50,-60,-70,"
          ]
        }
      ]
    },
    {
      "cell_type": "code",
      "metadata": {
        "colab": {
          "base_uri": "https://localhost:8080/"
        },
        "id": "ud6p4JAgV5cF",
        "outputId": "6217a1bd-ff57-495a-bb6a-b7ee97f7daad"
      },
      "source": [
        "# 12,24,36,..,120\n",
        "print()\n",
        "for num in range(12,121,12):\n",
        "  print(num,end=',')\n",
        "\n",
        "print('')\n",
        "# 98,95,92,89,...>80\n",
        "for num in range(98,80,-3):\n",
        "  print(num,end=',')\n"
      ],
      "execution_count": 47,
      "outputs": [
        {
          "output_type": "stream",
          "name": "stdout",
          "text": [
            "\n",
            "12,24,36,48,60,72,84,96,108,120,\n",
            "98,95,92,89,86,83,"
          ]
        }
      ]
    },
    {
      "cell_type": "code",
      "metadata": {
        "colab": {
          "base_uri": "https://localhost:8080/"
        },
        "id": "Zf2WbyeYVyFI",
        "outputId": "5b9933b6-5214-40d6-ff04-178ea4361ff1"
      },
      "source": [
        "# 45-50-55-60\n",
        "for num in range(45,61,5):\n",
        "  print(num,end='-')\n",
        "\n",
        "print('')\n",
        "# 3#6#9#12#15#\n",
        "for num in range(3,16,3):\n",
        "  print(num,end='#')"
      ],
      "execution_count": 46,
      "outputs": [
        {
          "output_type": "stream",
          "name": "stdout",
          "text": [
            "45-50-55-60-\n",
            "3#6#9#12#15#"
          ]
        }
      ]
    },
    {
      "cell_type": "code",
      "metadata": {
        "colab": {
          "base_uri": "https://localhost:8080/",
          "height": 163
        },
        "id": "gIJx6LgqWJP_",
        "outputId": "0dc1bc90-2c17-4219-bd3b-8b91fc8b8df3"
      },
      "source": [
        "56/0"
      ],
      "execution_count": 52,
      "outputs": [
        {
          "output_type": "error",
          "ename": "ZeroDivisionError",
          "evalue": "ignored",
          "traceback": [
            "\u001b[0;31m---------------------------------------------------------------------------\u001b[0m",
            "\u001b[0;31mZeroDivisionError\u001b[0m                         Traceback (most recent call last)",
            "\u001b[0;32m<ipython-input-52-2e3bde6d3278>\u001b[0m in \u001b[0;36m<module>\u001b[0;34m()\u001b[0m\n\u001b[0;32m----> 1\u001b[0;31m \u001b[0;36m56\u001b[0m\u001b[0;34m/\u001b[0m\u001b[0;36m0\u001b[0m\u001b[0;34m\u001b[0m\u001b[0;34m\u001b[0m\u001b[0m\n\u001b[0m",
            "\u001b[0;31mZeroDivisionError\u001b[0m: division by zero"
          ]
        }
      ]
    },
    {
      "cell_type": "code",
      "metadata": {
        "colab": {
          "base_uri": "https://localhost:8080/"
        },
        "id": "rtMsds8EWS6P",
        "outputId": "fc1cabd2-fe7e-4976-9e97-041bd8ba00c4"
      },
      "source": [
        "# 1,2,3,4,5,..10\n",
        "for num in range(1,11,1):\n",
        "  print(num,end=', ')\n"
      ],
      "execution_count": 55,
      "outputs": [
        {
          "output_type": "stream",
          "name": "stdout",
          "text": [
            "1, 2, 3, 4, 5, 6, 7, 8, 9, 10, "
          ]
        }
      ]
    },
    {
      "cell_type": "code",
      "metadata": {
        "colab": {
          "base_uri": "https://localhost:8080/"
        },
        "id": "FsrkqfSFcy3q",
        "outputId": "4eb2a7f7-1bcf-46eb-db27-1a5cdbacbc04"
      },
      "source": [
        "# 1,2,3,4,5,..10\n",
        "num = 1 # start\n",
        "while num<=11:   #stop\n",
        "  print(num,end=', ')\n",
        "  num = num + 1 # step\n",
        "\n"
      ],
      "execution_count": 59,
      "outputs": [
        {
          "output_type": "stream",
          "name": "stdout",
          "text": [
            "1, 2, 3, 4, 5, 6, 7, 8, 9, 10, 11, "
          ]
        }
      ]
    },
    {
      "cell_type": "code",
      "metadata": {
        "colab": {
          "base_uri": "https://localhost:8080/"
        },
        "id": "hCj6_5gddrQ3",
        "outputId": "1f94efdd-26d7-422a-dab2-9538b9af8a91"
      },
      "source": [
        "# -3,-7,-11,...>-20\n",
        "num = -3\n",
        "while num>-20:\n",
        "  print(num,end=',')\n",
        "  num = num - 4\n"
      ],
      "execution_count": 60,
      "outputs": [
        {
          "output_type": "stream",
          "name": "stdout",
          "text": [
            "-3,-7,-11,-15,-19,"
          ]
        }
      ]
    },
    {
      "cell_type": "code",
      "metadata": {
        "id": "P5t9o-bKeVQi"
      },
      "source": [
        "# Question\n",
        "num = -3\n",
        "while num>-20:\n",
        "  print(70)\n",
        "\n",
        "# Answer - this will lead to infinity loop\n",
        "  "
      ],
      "execution_count": null,
      "outputs": []
    },
    {
      "cell_type": "code",
      "metadata": {
        "colab": {
          "base_uri": "https://localhost:8080/"
        },
        "id": "4_PgSrP4fyD0",
        "outputId": "4c0b0899-875a-43c0-8567-43aec1e05104"
      },
      "source": [
        "# Question\n",
        "num = -3\n",
        "while num>-20:\n",
        "  print(70)\n",
        "  num=-21"
      ],
      "execution_count": 62,
      "outputs": [
        {
          "output_type": "stream",
          "name": "stdout",
          "text": [
            "70\n"
          ]
        }
      ]
    },
    {
      "cell_type": "code",
      "metadata": {
        "colab": {
          "base_uri": "https://localhost:8080/",
          "height": 34
        },
        "id": "UTTaAFRCgGT4",
        "outputId": "eac6a031-8c0c-4ea5-bf9f-07b8c3c7e213"
      },
      "source": [
        "chr(60)  # returns a character for a given ascii/unicode value"
      ],
      "execution_count": 63,
      "outputs": [
        {
          "output_type": "execute_result",
          "data": {
            "application/vnd.google.colaboratory.intrinsic+json": {
              "type": "string"
            },
            "text/plain": [
              "'<'"
            ]
          },
          "metadata": {},
          "execution_count": 63
        }
      ]
    },
    {
      "cell_type": "code",
      "metadata": {
        "colab": {
          "base_uri": "https://localhost:8080/",
          "height": 34
        },
        "id": "mJTDhEKQhVIF",
        "outputId": "809bcb7f-1e9f-4c25-c592-114f0b121a27"
      },
      "source": [
        "chr(65)  # returns a character for a given ascii/unicode value"
      ],
      "execution_count": 66,
      "outputs": [
        {
          "output_type": "execute_result",
          "data": {
            "application/vnd.google.colaboratory.intrinsic+json": {
              "type": "string"
            },
            "text/plain": [
              "'A'"
            ]
          },
          "metadata": {},
          "execution_count": 66
        }
      ]
    },
    {
      "cell_type": "code",
      "metadata": {
        "colab": {
          "base_uri": "https://localhost:8080/"
        },
        "id": "CdQMIsEWgfLK",
        "outputId": "c711038c-2f4b-4d49-8ded-e9ee6a802a77"
      },
      "source": [
        "ord('<') # returns a ascii/unicode for a given character"
      ],
      "execution_count": 65,
      "outputs": [
        {
          "output_type": "execute_result",
          "data": {
            "text/plain": [
              "60"
            ]
          },
          "metadata": {},
          "execution_count": 65
        }
      ]
    },
    {
      "cell_type": "code",
      "metadata": {
        "colab": {
          "base_uri": "https://localhost:8080/"
        },
        "id": "5bBCutCBhGca",
        "outputId": "f3f25bc9-e014-4872-92ea-d3bfa891038d"
      },
      "source": [
        "# WAP to print series of alphabets (A,B,C,...Z)\n",
        "for code in range(65,91,1):\n",
        "  print( chr(code), end=', ' )"
      ],
      "execution_count": 67,
      "outputs": [
        {
          "output_type": "stream",
          "name": "stdout",
          "text": [
            "A, B, C, D, E, F, G, H, I, J, K, L, M, N, O, P, Q, R, S, T, U, V, W, X, Y, Z, "
          ]
        }
      ]
    },
    {
      "cell_type": "code",
      "metadata": {
        "colab": {
          "base_uri": "https://localhost:8080/"
        },
        "id": "y7tImlB1hs8R",
        "outputId": "5e3f6134-bc87-4387-bc26-d2b7759f90da"
      },
      "source": [
        "# WAP to print series of alphabets (a,b,c,d,e,..z)\n",
        "for code in range(97,123,1):\n",
        "  print( chr(code), end=', ' )"
      ],
      "execution_count": 68,
      "outputs": [
        {
          "output_type": "stream",
          "name": "stdout",
          "text": [
            "a, b, c, d, e, f, g, h, i, j, k, l, m, n, o, p, q, r, s, t, u, v, w, x, y, z, "
          ]
        }
      ]
    },
    {
      "cell_type": "code",
      "metadata": {
        "colab": {
          "base_uri": "https://localhost:8080/"
        },
        "id": "_Sv3WXNgiIDq",
        "outputId": "1cb1b3c3-7095-4e91-8b30-b7baefe50d69"
      },
      "source": [
        "# WAP to print series of alphabets (a,c,e,...)\n",
        "\n",
        "for code in range(97,123,2):\n",
        "  print( chr(code), end=', ' )\n"
      ],
      "execution_count": 69,
      "outputs": [
        {
          "output_type": "stream",
          "name": "stdout",
          "text": [
            "a, c, e, g, i, k, m, o, q, s, u, w, y, "
          ]
        }
      ]
    },
    {
      "cell_type": "code",
      "metadata": {
        "colab": {
          "base_uri": "https://localhost:8080/"
        },
        "id": "s3nqS0LrjqW_",
        "outputId": "da51ce42-afb1-4ff7-f6e4-9483c463b94c"
      },
      "source": [
        "# WAP to print series of alphabets (z,w,t,...)\n",
        "for code in range(122,96,-3):\n",
        "  print( chr(code), end=', ' )"
      ],
      "execution_count": 70,
      "outputs": [
        {
          "output_type": "stream",
          "name": "stdout",
          "text": [
            "z, w, t, q, n, k, h, e, b, "
          ]
        }
      ]
    },
    {
      "cell_type": "code",
      "metadata": {
        "colab": {
          "base_uri": "https://localhost:8080/"
        },
        "id": "_N3shgjzjzX0",
        "outputId": "e25f1562-c3b2-4f09-9fe5-00491e03d075"
      },
      "source": [
        "# WAP to print series of alphabets (aA,bB,cC,,...,zZ)\n",
        "\n",
        "first=97  # start of ascii code for a,b,c,d,..\n",
        "second=65 # start of ascii code for A,B,C,D,..\n",
        "\n",
        "while first<123 and second<91:\n",
        "  print(chr(first)+chr(second),end=',')\n",
        "  first += 1\n",
        "  second += 1\n"
      ],
      "execution_count": 72,
      "outputs": [
        {
          "output_type": "stream",
          "name": "stdout",
          "text": [
            "aA,bB,cC,dD,eE,fF,gG,hH,iI,jJ,kK,lL,mM,nN,oO,pP,qQ,rR,sS,tT,uU,vV,wW,xX,yY,zZ,"
          ]
        }
      ]
    },
    {
      "cell_type": "code",
      "metadata": {
        "colab": {
          "base_uri": "https://localhost:8080/"
        },
        "id": "prYVqIgCk43y",
        "outputId": "471a446a-d3f3-4ce1-8675-3f9625845703"
      },
      "source": [
        "for first,second in zip(range(97,123,1),range(65,91,1)):\n",
        "    print(chr(first)+chr(second),end=',')"
      ],
      "execution_count": 73,
      "outputs": [
        {
          "output_type": "stream",
          "name": "stdout",
          "text": [
            "aA,bB,cC,dD,eE,fF,gG,hH,iI,jJ,kK,lL,mM,nN,oO,pP,qQ,rR,sS,tT,uU,vV,wW,xX,yY,zZ,"
          ]
        }
      ]
    },
    {
      "cell_type": "code",
      "metadata": {
        "colab": {
          "base_uri": "https://localhost:8080/"
        },
        "id": "YN91AzVQlpYp",
        "outputId": "f8ad3645-735b-4dca-8851-1f6c306b39f4"
      },
      "source": [
        "# WAP to print series of alphabets (aZ,bY,cX,,...,zA)\n",
        "for first,second in zip(range(97,123,1),range(90,64,-1)):\n",
        "    print(chr(first)+chr(second),end=',')"
      ],
      "execution_count": 76,
      "outputs": [
        {
          "output_type": "stream",
          "name": "stdout",
          "text": [
            "aZ,bY,cX,dW,eV,fU,gT,hS,iR,jQ,kP,lO,mN,nM,oL,pK,qJ,rI,sH,tG,uF,vE,wD,xC,yB,zA,"
          ]
        }
      ]
    },
    {
      "cell_type": "code",
      "metadata": {
        "id": "MaE_NZ7CntcK"
      },
      "source": [
        "# WAP to print a series of numbers - 10,3,20,6,30,9,40...,80\n",
        "# WAP to print a series of numbers - 2,3,4,10,20,30,4,6,8,20,40,60\n",
        "# WAP to print a series of numbers - -2,-10,-4,-100,-6,-190..>-800\n",
        "# WAP to print a series of alphanumerics - A9,B8,C7,....,Y-16,Z-17\n",
        "# WAP to print a series of alphabets - arabic letters\n",
        "# WAP to print a series of alphabets - Braille Patterns"
      ],
      "execution_count": null,
      "outputs": []
    },
    {
      "cell_type": "code",
      "metadata": {
        "colab": {
          "base_uri": "https://localhost:8080/"
        },
        "id": "nSDCLsi2pcff",
        "outputId": "7c1c928e-0e9b-4dab-b797-663386900131"
      },
      "source": [
        "print(ord('מ'))\n",
        "print(chr(1502))"
      ],
      "execution_count": 79,
      "outputs": [
        {
          "output_type": "stream",
          "name": "stdout",
          "text": [
            "1502\n",
            "מ\n"
          ]
        }
      ]
    }
  ]
}