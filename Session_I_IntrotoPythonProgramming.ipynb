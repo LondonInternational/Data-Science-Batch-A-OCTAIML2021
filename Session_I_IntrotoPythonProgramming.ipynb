{
  "nbformat": 4,
  "nbformat_minor": 0,
  "metadata": {
    "colab": {
      "name": "Session-I-IntrotoPythonProgramming.ipynb",
      "provenance": [],
      "collapsed_sections": [],
      "authorship_tag": "ABX9TyOcyCnCBE4K6Ky4aSkh1BFm",
      "include_colab_link": true
    },
    "kernelspec": {
      "name": "python3",
      "display_name": "Python 3"
    },
    "language_info": {
      "name": "python"
    }
  },
  "cells": [
    {
      "cell_type": "markdown",
      "metadata": {
        "id": "view-in-github",
        "colab_type": "text"
      },
      "source": [
        "<a href=\"https://colab.research.google.com/github/LondonInternational/Data-Science-Batch-A-OCTAIML2021/blob/main/Session_I_IntrotoPythonProgramming.ipynb\" target=\"_parent\"><img src=\"https://colab.research.google.com/assets/colab-badge.svg\" alt=\"Open In Colab\"/></a>"
      ]
    },
    {
      "cell_type": "code",
      "metadata": {
        "id": "tUEaQxTYgLK-"
      },
      "source": [
        "#  Session I - London International - Data Science & Analytics 15/10/2021 15:00 to 19:00"
      ],
      "execution_count": 81,
      "outputs": []
    },
    {
      "cell_type": "code",
      "metadata": {
        "colab": {
          "base_uri": "https://localhost:8080/"
        },
        "id": "cggQ4SGUzJvb",
        "outputId": "fd9400aa-d6b7-431d-ce31-bfa2404cb23b"
      },
      "source": [
        "# This is the first program in python\n",
        "print('Hello World')"
      ],
      "execution_count": null,
      "outputs": [
        {
          "output_type": "stream",
          "name": "stdout",
          "text": [
            "Hello World\n"
          ]
        }
      ]
    },
    {
      "cell_type": "code",
      "metadata": {
        "colab": {
          "base_uri": "https://localhost:8080/"
        },
        "id": "bH7agl4W0PNx",
        "outputId": "f1233967-75ef-4f57-f867-a20e749579bc"
      },
      "source": [
        "# Single -Line Comment - Use # as Prefix\n",
        "'''\n",
        "Multi-line Comment\n",
        "Author: Sanket\n",
        "Date: 15 Oct 2021\n",
        "Time: 16:03\n",
        "'''\n",
        "\n",
        "print(\"Hello Planet Earth\")"
      ],
      "execution_count": null,
      "outputs": [
        {
          "output_type": "stream",
          "name": "stdout",
          "text": [
            "Hello Planet Earth\n"
          ]
        }
      ]
    },
    {
      "cell_type": "code",
      "metadata": {
        "id": "I33RvRix2Ft1"
      },
      "source": [
        "# Cell Execution - PLAY Button or CTRL+ENTR"
      ],
      "execution_count": null,
      "outputs": []
    },
    {
      "cell_type": "code",
      "metadata": {
        "colab": {
          "base_uri": "https://localhost:8080/"
        },
        "id": "OUsmE6YX2c1u",
        "outputId": "3b2ba608-55fc-4179-d5f1-00bb075be5e1"
      },
      "source": [
        "print('hello world')\n",
        "print(\"hello world\")\n",
        "print('''hello world''')\n",
        "print(\"\"\"hello world\"\"\")"
      ],
      "execution_count": null,
      "outputs": [
        {
          "output_type": "stream",
          "name": "stdout",
          "text": [
            "hello world\n",
            "hello world\n",
            "hello world\n",
            "hello world\n"
          ]
        }
      ]
    },
    {
      "cell_type": "code",
      "metadata": {
        "id": "pdKzm-t62vYE"
      },
      "source": [
        "# List of Operators in Python"
      ],
      "execution_count": null,
      "outputs": []
    },
    {
      "cell_type": "code",
      "metadata": {
        "colab": {
          "base_uri": "https://localhost:8080/"
        },
        "id": "o7l5JK5i3De-",
        "outputId": "f9420639-95af-44e9-8bf1-10f8b57ee89d"
      },
      "source": [
        "# Arithmetic Operators (+,-,/,*,**,%)\n",
        "\n",
        "print(23-4)\n",
        "print(23+4)\n",
        "print(23/4) # float division operator --> 5.75\n",
        "print(23//4) # int division operator --> 5\n",
        "print(3*4)\n",
        "print(3**3) # power operator -> exponent value -> base**power --> 27\n",
        "print(3**4) # power operator -> exponent value -> base**power --> 81\n",
        "print(23%4) # modulo opeartor -> Remainder value -> 3"
      ],
      "execution_count": null,
      "outputs": [
        {
          "output_type": "stream",
          "name": "stdout",
          "text": [
            "19\n",
            "27\n",
            "5.75\n",
            "5\n",
            "12\n",
            "27\n",
            "81\n",
            "3\n"
          ]
        }
      ]
    },
    {
      "cell_type": "code",
      "metadata": {
        "colab": {
          "base_uri": "https://localhost:8080/"
        },
        "id": "Y0nNlgFT4vVy",
        "outputId": "e8829388-f9b7-4984-f1bb-b1cd0b6d55f2"
      },
      "source": [
        "# Relational Operators (<,>,<=,>=,==,!=) return boolean value (True/False)\n",
        "\n",
        "print(4<5) # True\n",
        "print(4>5) # False\n",
        "print(4==5) # False\n",
        "print(4<=5) # True\n",
        "print(4>=5) # False\n",
        "print(4!=5) # ?"
      ],
      "execution_count": null,
      "outputs": [
        {
          "output_type": "stream",
          "name": "stdout",
          "text": [
            "True\n",
            "False\n",
            "False\n",
            "True\n",
            "False\n",
            "True\n"
          ]
        }
      ]
    },
    {
      "cell_type": "code",
      "metadata": {
        "colab": {
          "base_uri": "https://localhost:8080/"
        },
        "id": "wYNt2ICA6UE3",
        "outputId": "cf0e59ac-ee11-4b95-9ebd-1486f500de93"
      },
      "source": [
        "# Assignment Operators (=,+=,-=,/=,%=,//=,etc..)\n",
        "x = 90\n",
        "print(x) # 90\n",
        "x = 94\n",
        "print(x) # 94\n",
        "x += 5 # x = x+5  --> x= 99\n",
        "print(x)\n",
        "\n",
        "y = 76\n",
        "y //= 4 # y = y//4 --> y = 19 or 19.0 ??\n",
        "print(y)"
      ],
      "execution_count": null,
      "outputs": [
        {
          "output_type": "stream",
          "name": "stdout",
          "text": [
            "90\n",
            "94\n",
            "99\n",
            "19\n"
          ]
        }
      ]
    },
    {
      "cell_type": "code",
      "metadata": {
        "colab": {
          "base_uri": "https://localhost:8080/"
        },
        "id": "WLz2jfFP7UYg",
        "outputId": "d404d78d-67d7-4cfb-8d37-1753d89c1f83"
      },
      "source": [
        "y = 76\n",
        "y /= 4 # y = y/4 --> y = 19 or 19.0 ??\n",
        "print(y)"
      ],
      "execution_count": null,
      "outputs": [
        {
          "output_type": "stream",
          "name": "stdout",
          "text": [
            "19.0\n"
          ]
        }
      ]
    },
    {
      "cell_type": "code",
      "metadata": {
        "colab": {
          "base_uri": "https://localhost:8080/"
        },
        "id": "j3En3uLd8CC-",
        "outputId": "411f8d28-f915-4f17-b9f5-d06d1d9d668e"
      },
      "source": [
        "# Logical Operators (and, or, not) --> True/False\n",
        "\n",
        "print( 23 > 5 and 45 < 7 ) # -> ( True and False ) -->  False\n",
        "print( 23 > 5 and 45 < 97 ) # -> ( True and True ) -->  True"
      ],
      "execution_count": null,
      "outputs": [
        {
          "output_type": "stream",
          "name": "stdout",
          "text": [
            "False\n",
            "True\n"
          ]
        }
      ]
    },
    {
      "cell_type": "code",
      "metadata": {
        "id": "142atjxO9DGJ"
      },
      "source": [
        "print( 23 > 5 or 45 < 7 ) # -> ( True or False ) -->  True\n",
        "print( 23 > 5 or 45 < 97 ) # -> ( True or True ) -->  True\n",
        "print( 23 < 5 or 45 > 97 ) # -> ( False or False ) -->  False"
      ],
      "execution_count": null,
      "outputs": []
    },
    {
      "cell_type": "code",
      "metadata": {
        "colab": {
          "base_uri": "https://localhost:8080/"
        },
        "id": "nb8_18769aPd",
        "outputId": "1882f73c-e8bc-41b9-e865-266e01e202e1"
      },
      "source": [
        "print(not (5<6)) # not True -> False"
      ],
      "execution_count": null,
      "outputs": [
        {
          "output_type": "stream",
          "name": "stdout",
          "text": [
            "False\n"
          ]
        }
      ]
    },
    {
      "cell_type": "code",
      "metadata": {
        "colab": {
          "base_uri": "https://localhost:8080/"
        },
        "id": "Ia9tR9nM9pzF",
        "outputId": "8315d9e1-d389-457e-ef65-942421f4074e"
      },
      "source": [
        "print(not True) # not True -> False"
      ],
      "execution_count": null,
      "outputs": [
        {
          "output_type": "stream",
          "name": "stdout",
          "text": [
            "False\n"
          ]
        }
      ]
    },
    {
      "cell_type": "code",
      "metadata": {
        "colab": {
          "base_uri": "https://localhost:8080/"
        },
        "id": "2_x3l8qZ936P",
        "outputId": "a2c99e85-2fbf-4350-cb90-818a677efc54"
      },
      "source": [
        "4+6"
      ],
      "execution_count": null,
      "outputs": [
        {
          "output_type": "execute_result",
          "data": {
            "text/plain": [
              "10"
            ]
          },
          "metadata": {},
          "execution_count": 26
        }
      ]
    },
    {
      "cell_type": "code",
      "metadata": {
        "colab": {
          "base_uri": "https://localhost:8080/"
        },
        "id": "TKk4AhDq-Cav",
        "outputId": "cf73d56d-b4dd-4ae0-8f2f-488862f0e81a"
      },
      "source": [
        "x = 90\n",
        "\n",
        "print(not (4<56 and 50<=0) ) # not (True and False) --> not (False) --> True"
      ],
      "execution_count": null,
      "outputs": [
        {
          "output_type": "stream",
          "name": "stdout",
          "text": [
            "True\n"
          ]
        }
      ]
    },
    {
      "cell_type": "code",
      "metadata": {
        "colab": {
          "base_uri": "https://localhost:8080/"
        },
        "id": "j7ODmuN2Au4Z",
        "outputId": "d5db1f6c-c7c6-41e1-cdd7-a4dd09855274"
      },
      "source": [
        "# Identity Operators (is, is not) ---> True/False\n",
        "print( 3 is 4)\n",
        "print('amit' is 'alok')"
      ],
      "execution_count": null,
      "outputs": [
        {
          "output_type": "stream",
          "name": "stdout",
          "text": [
            "False\n",
            "False\n"
          ]
        }
      ]
    },
    {
      "cell_type": "code",
      "metadata": {
        "colab": {
          "base_uri": "https://localhost:8080/"
        },
        "id": "wVUDiTZlBFcd",
        "outputId": "c9269f12-81ed-4305-a9b9-ceca50bf7dc0"
      },
      "source": [
        "# Membership Operators (in, not in) --> True/False\n",
        "\n",
        "numList = [1,2,3,5]\n",
        "\n",
        "print(4 in numList)\n",
        "print(0 in numList)\n",
        "print(5 in numList)"
      ],
      "execution_count": null,
      "outputs": [
        {
          "output_type": "stream",
          "name": "stdout",
          "text": [
            "False\n",
            "False\n",
            "True\n"
          ]
        }
      ]
    },
    {
      "cell_type": "code",
      "metadata": {
        "colab": {
          "base_uri": "https://localhost:8080/"
        },
        "id": "pzv4NaHXBkvp",
        "outputId": "3bfab41f-516b-4df6-f0a5-e38d99ce7743"
      },
      "source": [
        "# Bitwise Operators (&, |, ^, ~,>>, <<) \n",
        "\n",
        "x = 9 # 1001 \n",
        "# & \n",
        "y = 2 # 0010\n",
        "\n",
        "'''\n",
        "----------\n",
        "\n",
        "1001\n",
        "&\n",
        "0010\n",
        "----\n",
        "0000 (0)\n",
        "\n",
        "----------\n",
        "\n",
        "'''\n",
        "\n",
        "print( x & y)\n",
        "\n"
      ],
      "execution_count": null,
      "outputs": [
        {
          "output_type": "stream",
          "name": "stdout",
          "text": [
            "0\n"
          ]
        }
      ]
    },
    {
      "cell_type": "code",
      "metadata": {
        "id": "JkU9Td9VEYkH"
      },
      "source": [
        "# Number Systems\n",
        "\n",
        "# Binary Number (0,1)\n",
        "# Octal Number (0-7)\n",
        "# Decimal Number (0-9)\n",
        "# Hexadecimal Number ()"
      ],
      "execution_count": null,
      "outputs": []
    },
    {
      "cell_type": "code",
      "metadata": {
        "colab": {
          "base_uri": "https://localhost:8080/"
        },
        "id": "n_Po0RZ9Ck5V",
        "outputId": "18f54895-56d2-416b-a41f-68bb43e71cd8"
      },
      "source": [
        "x = 9 # 1001 \n",
        "# | pipe bitwise OR \n",
        "y = 2 # 0010\n",
        "\n",
        "'''\n",
        "----------\n",
        "\n",
        "1001\n",
        "|\n",
        "0010\n",
        "----\n",
        "1011 (11)\n",
        "\n",
        "----------\n",
        "\n",
        "'''\n",
        "\n",
        "print( x | y)"
      ],
      "execution_count": null,
      "outputs": [
        {
          "output_type": "stream",
          "name": "stdout",
          "text": [
            "11\n"
          ]
        }
      ]
    },
    {
      "cell_type": "code",
      "metadata": {
        "colab": {
          "base_uri": "https://localhost:8080/"
        },
        "id": "NK5ZsYRzC8xs",
        "outputId": "12d90e64-ce29-42e1-e12f-1c39fff837a5"
      },
      "source": [
        "y = 2 # 0010\n",
        "\n",
        "'''\n",
        "----------\n",
        "\n",
        "0010 \n",
        "<< LEFT SHIFT\n",
        "----\n",
        "0100 (4)\n",
        "\n",
        "----------\n",
        "\n",
        "'''\n",
        "\n",
        "print( y << 1)"
      ],
      "execution_count": null,
      "outputs": [
        {
          "output_type": "stream",
          "name": "stdout",
          "text": [
            "4\n"
          ]
        }
      ]
    },
    {
      "cell_type": "code",
      "metadata": {
        "colab": {
          "base_uri": "https://localhost:8080/"
        },
        "id": "h5ZP45CFDYYp",
        "outputId": "17d63efb-df79-47ce-b607-4c5086f83441"
      },
      "source": [
        "y = 2 # 0010\n",
        "\n",
        "'''\n",
        "----------\n",
        "\n",
        "0010 \n",
        ">> RIGHT SHIFT\n",
        "----\n",
        "0001 (1)\n",
        "\n",
        "----------\n",
        "\n",
        "'''\n",
        "\n",
        "print( y >> 1)"
      ],
      "execution_count": null,
      "outputs": [
        {
          "output_type": "stream",
          "name": "stdout",
          "text": [
            "1\n"
          ]
        }
      ]
    },
    {
      "cell_type": "code",
      "metadata": {
        "id": "5_yubcncDm15"
      },
      "source": [
        "# Arithmetic Operators (+,-,/,//,*,**,%)\n",
        "# Relational Operators (<,>,<=,>=,!=)\n",
        "# Logical Operators (and, or, not)\n",
        "# Assignment Operators (=,+=,/=,-=,)\n",
        "# Identity Operators (is, is not)\n",
        "# Membership Operators (in, not in)\n",
        "# Bitwise Operators (&,|,~, <<,>>,^)"
      ],
      "execution_count": null,
      "outputs": []
    },
    {
      "cell_type": "code",
      "metadata": {
        "colab": {
          "base_uri": "https://localhost:8080/"
        },
        "id": "Nfze2ZPJOZR4",
        "outputId": "0c58518c-4fca-4123-e928-5cdfa2cd3ef9"
      },
      "source": [
        "# Semi-colon at the EOL(End-of-line-of-code) is optional\n",
        "x=90;\n",
        "z=56;\n",
        "y=x+z\n",
        "print(y)"
      ],
      "execution_count": null,
      "outputs": [
        {
          "output_type": "stream",
          "name": "stdout",
          "text": [
            "146\n"
          ]
        }
      ]
    },
    {
      "cell_type": "code",
      "metadata": {
        "colab": {
          "base_uri": "https://localhost:8080/"
        },
        "id": "NOxyQvGAOu9W",
        "outputId": "caeb2240-51f1-44c4-e216-214ea46999ca"
      },
      "source": [
        "# Python is strongly-typed language as it supports operations on only compatible types of data\n",
        "\n",
        "print(56+4) #  (int + int) --> int [addition] 60\n",
        "print(56.0+4) #  (float + int) --> float [addition] 60.0\n",
        "print('ca'+'t') # (string +  string ) --> string [concatenation] cat\n"
      ],
      "execution_count": null,
      "outputs": [
        {
          "output_type": "stream",
          "name": "stdout",
          "text": [
            "60\n",
            "60.0\n",
            "cat\n"
          ]
        }
      ]
    },
    {
      "cell_type": "code",
      "metadata": {
        "colab": {
          "base_uri": "https://localhost:8080/",
          "height": 167
        },
        "id": "2nkoi6_mPWAL",
        "outputId": "15d00234-a8ae-48f8-ab35-a7a1cb42f271"
      },
      "source": [
        "print('ca'+ 8) # incompatibility within operand types --> add/concat"
      ],
      "execution_count": null,
      "outputs": [
        {
          "output_type": "error",
          "ename": "TypeError",
          "evalue": "ignored",
          "traceback": [
            "\u001b[0;31m---------------------------------------------------------------------------\u001b[0m",
            "\u001b[0;31mTypeError\u001b[0m                                 Traceback (most recent call last)",
            "\u001b[0;32m<ipython-input-42-81e4249044ed>\u001b[0m in \u001b[0;36m<module>\u001b[0;34m()\u001b[0m\n\u001b[0;32m----> 1\u001b[0;31m \u001b[0mprint\u001b[0m\u001b[0;34m(\u001b[0m\u001b[0;34m'ca'\u001b[0m\u001b[0;34m+\u001b[0m\u001b[0;36m8\u001b[0m\u001b[0;34m)\u001b[0m \u001b[0;31m# incompatibility within datatypes --> add/concat\u001b[0m\u001b[0;34m\u001b[0m\u001b[0;34m\u001b[0m\u001b[0m\n\u001b[0m",
            "\u001b[0;31mTypeError\u001b[0m: can only concatenate str (not \"int\") to str"
          ]
        }
      ]
    },
    {
      "cell_type": "code",
      "metadata": {
        "colab": {
          "base_uri": "https://localhost:8080/",
          "height": 167
        },
        "id": "EKFWKibrP8aG",
        "outputId": "ee989276-4549-47f5-ab45-071d37774f9f"
      },
      "source": [
        "PRINT('helloworld') # python is case-sensitive language"
      ],
      "execution_count": null,
      "outputs": [
        {
          "output_type": "error",
          "ename": "NameError",
          "evalue": "ignored",
          "traceback": [
            "\u001b[0;31m---------------------------------------------------------------------------\u001b[0m",
            "\u001b[0;31mNameError\u001b[0m                                 Traceback (most recent call last)",
            "\u001b[0;32m<ipython-input-43-2ad4415a10c8>\u001b[0m in \u001b[0;36m<module>\u001b[0;34m()\u001b[0m\n\u001b[0;32m----> 1\u001b[0;31m \u001b[0mPRINT\u001b[0m\u001b[0;34m(\u001b[0m\u001b[0;34m'helloworld'\u001b[0m\u001b[0;34m)\u001b[0m\u001b[0;34m\u001b[0m\u001b[0;34m\u001b[0m\u001b[0m\n\u001b[0m",
            "\u001b[0;31mNameError\u001b[0m: name 'PRINT' is not defined"
          ]
        }
      ]
    },
    {
      "cell_type": "code",
      "metadata": {
        "colab": {
          "base_uri": "https://localhost:8080/",
          "height": 185
        },
        "id": "Cayh_OfrQS5i",
        "outputId": "9c86f9c2-26ef-4c07-a4ed-7a72f6608a3c"
      },
      "source": [
        "D = 90\n",
        "print(d)"
      ],
      "execution_count": null,
      "outputs": [
        {
          "output_type": "error",
          "ename": "NameError",
          "evalue": "ignored",
          "traceback": [
            "\u001b[0;31m---------------------------------------------------------------------------\u001b[0m",
            "\u001b[0;31mNameError\u001b[0m                                 Traceback (most recent call last)",
            "\u001b[0;32m<ipython-input-45-76de67a7cf91>\u001b[0m in \u001b[0;36m<module>\u001b[0;34m()\u001b[0m\n\u001b[1;32m      1\u001b[0m \u001b[0mD\u001b[0m \u001b[0;34m=\u001b[0m \u001b[0;36m90\u001b[0m\u001b[0;34m\u001b[0m\u001b[0;34m\u001b[0m\u001b[0m\n\u001b[0;32m----> 2\u001b[0;31m \u001b[0mprint\u001b[0m\u001b[0;34m(\u001b[0m\u001b[0md\u001b[0m\u001b[0;34m)\u001b[0m\u001b[0;34m\u001b[0m\u001b[0;34m\u001b[0m\u001b[0m\n\u001b[0m",
            "\u001b[0;31mNameError\u001b[0m: name 'd' is not defined"
          ]
        }
      ]
    },
    {
      "cell_type": "code",
      "metadata": {
        "colab": {
          "base_uri": "https://localhost:8080/"
        },
        "id": "uLTsc0UiQiDJ",
        "outputId": "0f80001a-adb3-4ce9-f3fc-bb04bb824fa8"
      },
      "source": [
        "# type-casting(type-conversion) functions (int(),str(),float()) will help you to convert the data from one type to the other type\n",
        "\n",
        "# convert float number into integer\n",
        "x = 90.8\n",
        "y = int(x)\n",
        "print(y)\n",
        "\n",
        "# convert integer number into float\n",
        "x = 908\n",
        "z = float(x)\n",
        "print(z)\n",
        "\n",
        "# string conversion\n",
        "d = 'ca'\n",
        "strval = d + str(90) # 'ca' + '90' -> ca90\n",
        "print(strval)\n"
      ],
      "execution_count": null,
      "outputs": [
        {
          "output_type": "stream",
          "name": "stdout",
          "text": [
            "90\n",
            "908.0\n",
            "ca90\n"
          ]
        }
      ]
    },
    {
      "cell_type": "code",
      "metadata": {
        "colab": {
          "base_uri": "https://localhost:8080/"
        },
        "id": "wXHcBXEoSl7l",
        "outputId": "1cce8033-2754-416d-e9e6-67377548c9ce"
      },
      "source": [
        "# statically-typed langauges -C/C++/Java\n",
        "# int x = 90 statically-assign a datatype to a variable\n",
        "\n",
        "# dynamically-typed language - Python\n",
        "x = 90\n",
        "print(x)\n",
        "x = 'cat'\n",
        "print(x)"
      ],
      "execution_count": null,
      "outputs": [
        {
          "output_type": "stream",
          "name": "stdout",
          "text": [
            "90\n",
            "cat\n"
          ]
        }
      ]
    },
    {
      "cell_type": "code",
      "metadata": {
        "colab": {
          "base_uri": "https://localhost:8080/",
          "height": 132
        },
        "id": "kYt_YWbmThFm",
        "outputId": "ef6fb06e-9e8d-4878-cd1a-ad44daff5cc7"
      },
      "source": [
        "True = 90\n",
        "print(True)"
      ],
      "execution_count": null,
      "outputs": [
        {
          "output_type": "error",
          "ename": "SyntaxError",
          "evalue": "ignored",
          "traceback": [
            "\u001b[0;36m  File \u001b[0;32m\"<ipython-input-51-1250792fd1f2>\"\u001b[0;36m, line \u001b[0;32m1\u001b[0m\n\u001b[0;31m    True = 90\u001b[0m\n\u001b[0m             ^\u001b[0m\n\u001b[0;31mSyntaxError\u001b[0m\u001b[0;31m:\u001b[0m can't assign to keyword\n"
          ]
        }
      ]
    },
    {
      "cell_type": "code",
      "metadata": {
        "colab": {
          "base_uri": "https://localhost:8080/"
        },
        "id": "_mT5bAeRUE87",
        "outputId": "4b718b92-e18b-4586-8801-306f6eafc074"
      },
      "source": [
        "TRUE = 90\n",
        "print(TRUE)"
      ],
      "execution_count": 52,
      "outputs": [
        {
          "output_type": "stream",
          "name": "stdout",
          "text": [
            "90\n"
          ]
        }
      ]
    },
    {
      "cell_type": "code",
      "metadata": {
        "id": "nOdfsUv9GCvc"
      },
      "source": [
        "# Conditional Statments (if,elif,else)"
      ],
      "execution_count": null,
      "outputs": []
    },
    {
      "cell_type": "code",
      "metadata": {
        "id": "d0sBzKJuOYgi",
        "colab": {
          "base_uri": "https://localhost:8080/"
        },
        "outputId": "2d4d43ef-775a-42f4-f22e-e8fe863e86c5"
      },
      "source": [
        "x = 9  \n",
        "if (x>60):\n",
        "  print('hello')  # add indent/margin of space\n",
        "  print('yola')\n",
        "  print('tic')\n",
        "else:\n",
        "  print('world')"
      ],
      "execution_count": 54,
      "outputs": [
        {
          "output_type": "stream",
          "name": "stdout",
          "text": [
            "world\n"
          ]
        }
      ]
    },
    {
      "cell_type": "code",
      "metadata": {
        "colab": {
          "base_uri": "https://localhost:8080/"
        },
        "id": "M8A_3yWwVDW3",
        "outputId": "36648fda-59be-45d8-d068-24f51e61c24a"
      },
      "source": [
        "\n",
        "\n",
        "age = 'amit'\n",
        "\n",
        "print(type(age)) # returns the type of data stored in a variable\n",
        "print(isinstance(age,str)) # isinstance(value,datatype) returns True/False\n",
        "print(isinstance(age,int)) # isinstance(value,datatype) returns True/False\n",
        "print(isinstance(age,float)) # isinstance(value,datatype) returns True/False"
      ],
      "execution_count": 69,
      "outputs": [
        {
          "output_type": "stream",
          "name": "stdout",
          "text": [
            "<class 'str'>\n",
            "True\n",
            "False\n",
            "False\n"
          ]
        }
      ]
    },
    {
      "cell_type": "code",
      "metadata": {
        "colab": {
          "base_uri": "https://localhost:8080/"
        },
        "id": "DmfXSt4_XgY4",
        "outputId": "d5f06c42-026b-43b1-b949-b2a895167c5f"
      },
      "source": [
        "# Restrict access to my club based on the age of customer(access 18-65)\n",
        "\n",
        "age = '-180'\n",
        "if isinstance(age,str):\n",
        "      print('Enter your age again')\n",
        "else:\n",
        "      if age>=18 and age<=65:\n",
        "        print(\"Youare welcome\")\n",
        "      elif age<18 and age>0:\n",
        "        print('Entry Restricted')\n",
        "      elif age>65 and age<100:\n",
        "        print('Caution')\n",
        "      else:\n",
        "        print('Invalid Age')"
      ],
      "execution_count": 78,
      "outputs": [
        {
          "output_type": "stream",
          "name": "stdout",
          "text": [
            "Enter your age again\n"
          ]
        }
      ]
    },
    {
      "cell_type": "code",
      "metadata": {
        "colab": {
          "base_uri": "https://localhost:8080/"
        },
        "id": "3kshguhkZLA9",
        "outputId": "b82c80d1-fce7-4b54-a3a4-813aebd27435"
      },
      "source": [
        "# Check whether a number is even or odd and print the accordingly\n",
        "\n",
        "num = 7\n",
        "\n",
        "if num % 2==0:\n",
        "  print('Even')\n",
        "else:\n",
        "  print('Odd')\n"
      ],
      "execution_count": 79,
      "outputs": [
        {
          "output_type": "stream",
          "name": "stdout",
          "text": [
            "Odd\n"
          ]
        }
      ]
    },
    {
      "cell_type": "code",
      "metadata": {
        "colab": {
          "base_uri": "https://localhost:8080/"
        },
        "id": "_1Ksb9O3aag1",
        "outputId": "27f1ca54-fee0-46e7-d9ce-7141ce232d7e"
      },
      "source": [
        "# Check whether the calender year is leap year or not and print the message accordingly\n",
        "\n",
        "# Check whether a number is float or int or str and print the message accordingly\n",
        "\n",
        "# Check whether a number is positive or negativ or zero and print the message accordingly\n",
        "\n",
        "# Calculate  volume of sphere based on radius, area of circle, area of equilateral triangle\n",
        "\n",
        "# Calculate the compound interest\n",
        "\n",
        "print(4-5*4/2**3) # analyse the expression and find out the order of execution - order of precedence in python\n",
        "\n"
      ],
      "execution_count": 80,
      "outputs": [
        {
          "output_type": "stream",
          "name": "stdout",
          "text": [
            "1.5\n"
          ]
        }
      ]
    }
  ]
}