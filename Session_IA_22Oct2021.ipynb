{
  "nbformat": 4,
  "nbformat_minor": 0,
  "metadata": {
    "colab": {
      "name": "Session-I-22Oct2021.ipynb",
      "provenance": [],
      "collapsed_sections": [],
      "authorship_tag": "ABX9TyMSB66u4GgErzytd3Ey7Ezs",
      "include_colab_link": true
    },
    "kernelspec": {
      "name": "python3",
      "display_name": "Python 3"
    },
    "language_info": {
      "name": "python"
    }
  },
  "cells": [
    {
      "cell_type": "markdown",
      "metadata": {
        "id": "view-in-github",
        "colab_type": "text"
      },
      "source": [
        "<a href=\"https://colab.research.google.com/github/LondonInternational/Data-Science-Batch-A-OCTAIML2021/blob/main/Session_IA_22Oct2021.ipynb\" target=\"_parent\"><img src=\"https://colab.research.google.com/assets/colab-badge.svg\" alt=\"Open In Colab\"/></a>"
      ]
    },
    {
      "cell_type": "code",
      "metadata": {
        "id": "Kw45B66mdhyn"
      },
      "source": [
        "# This is the hello world program\n",
        "# Author: Sanket\n",
        "# CTRL+ / <- Shortkey to add comment\n",
        "# CTRL + ENTER -> to run the program"
      ],
      "execution_count": null,
      "outputs": []
    },
    {
      "cell_type": "code",
      "metadata": {
        "colab": {
          "base_uri": "https://localhost:8080/"
        },
        "id": "G8D2MO0W_ikV",
        "outputId": "d3aec7d0-4f0d-47d7-c9e7-95a30cb65725"
      },
      "source": [
        "5+34*2**3//4"
      ],
      "execution_count": 81,
      "outputs": [
        {
          "output_type": "execute_result",
          "data": {
            "text/plain": [
              "73"
            ]
          },
          "metadata": {},
          "execution_count": 81
        }
      ]
    },
    {
      "cell_type": "code",
      "metadata": {
        "colab": {
          "base_uri": "https://localhost:8080/"
        },
        "id": "uUFvweA2hQL5",
        "outputId": "9df63e22-a62a-4e75-a5e1-d35b9a32830c"
      },
      "source": [
        "print(3+4)"
      ],
      "execution_count": null,
      "outputs": [
        {
          "output_type": "stream",
          "name": "stdout",
          "text": [
            "7\n"
          ]
        }
      ]
    },
    {
      "cell_type": "code",
      "metadata": {
        "colab": {
          "base_uri": "https://localhost:8080/"
        },
        "id": "68p1QmsqgNXI",
        "outputId": "71ceb54e-70f3-48d5-9771-5f1af9d293c5"
      },
      "source": [
        "print('hello world')"
      ],
      "execution_count": null,
      "outputs": [
        {
          "output_type": "stream",
          "name": "stdout",
          "text": [
            "hello world\n"
          ]
        }
      ]
    },
    {
      "cell_type": "code",
      "metadata": {
        "id": "4aM4mks-hnti"
      },
      "source": [
        "'''\n",
        "This is a multi-line comment\n",
        "written by Sanket\n",
        "on the date 22 Oct 2021\n",
        "'''"
      ],
      "execution_count": null,
      "outputs": []
    },
    {
      "cell_type": "code",
      "metadata": {
        "colab": {
          "base_uri": "https://localhost:8080/"
        },
        "id": "oiWEoY2IiXFB",
        "outputId": "f29a78ea-9c4d-4085-8e8e-53ce5666616a"
      },
      "source": [
        "# how to print a text string in a python\n",
        "\n",
        "print('hello dubai')\n",
        "print(\"hello dubai\")\n",
        "print(\"\"\"hello dubai\"\"\")"
      ],
      "execution_count": null,
      "outputs": [
        {
          "output_type": "stream",
          "name": "stdout",
          "text": [
            "hello dubai\n",
            "hello dubai\n",
            "hello dubai\n"
          ]
        }
      ]
    },
    {
      "cell_type": "code",
      "metadata": {
        "colab": {
          "base_uri": "https://localhost:8080/",
          "height": 132
        },
        "id": "teMfyXS1iyqk",
        "outputId": "acee9250-d494-404a-c700-5d90bac8ef7d"
      },
      "source": [
        "print 'hello world'   # Syntax to print a text in Python 2.x  Version"
      ],
      "execution_count": null,
      "outputs": [
        {
          "output_type": "error",
          "ename": "SyntaxError",
          "evalue": "ignored",
          "traceback": [
            "\u001b[0;36m  File \u001b[0;32m\"<ipython-input-13-cdc75808e29f>\"\u001b[0;36m, line \u001b[0;32m1\u001b[0m\n\u001b[0;31m    print 'hello world'\u001b[0m\n\u001b[0m                      ^\u001b[0m\n\u001b[0;31mSyntaxError\u001b[0m\u001b[0;31m:\u001b[0m Missing parentheses in call to 'print'. Did you mean print('hello world')?\n"
          ]
        }
      ]
    },
    {
      "cell_type": "code",
      "metadata": {
        "colab": {
          "base_uri": "https://localhost:8080/"
        },
        "id": "72LGwK-KiXBj",
        "outputId": "b774459a-fe48-42d7-edf3-7d46ff051c53"
      },
      "source": [
        "# List Of Operators in Python\n",
        "\n",
        "#  Arithmetic Operators(+,-,/,//,*,**,%)\n",
        "\n",
        "print(2+3)\n",
        "print(34-45)\n",
        "print(6*8)\n",
        "print(23/4) # float division operator --> 5.75\n",
        "print(23//4) # integer division operator --> 5 --> return integer part of the result\n",
        "print(3**2) # power opearator --> base ** exp -> 3 ** 2 --> 9\n",
        "print(3**3) # power opearator --> base ** exp -> 3 ** 3 --> 27\n",
        "print(16**2)\n",
        "print(14 % 4) # returns remainder --> 2 --> modulus operator"
      ],
      "execution_count": null,
      "outputs": [
        {
          "output_type": "stream",
          "name": "stdout",
          "text": [
            "5\n",
            "-11\n",
            "48\n",
            "5.75\n",
            "5\n",
            "9\n",
            "27\n",
            "256\n",
            "2\n"
          ]
        }
      ]
    },
    {
      "cell_type": "code",
      "metadata": {
        "colab": {
          "base_uri": "https://localhost:8080/"
        },
        "id": "DDEZOjBsiW_5",
        "outputId": "2a3a528b-2297-4503-c432-1767cf173a2c"
      },
      "source": [
        "# Relational Opearators (<,>,<=,>=,==) --> return True/False --> Boolean(1/0)\n",
        "print(3<4) # returns True\n",
        "print(3>4) #  F\n",
        "print(3<=4) #  T\n",
        "print(3>=4) # F\n",
        "print(3==4) # ==  equality operator\n",
        "print(5!=90) # != inequality operator "
      ],
      "execution_count": null,
      "outputs": [
        {
          "output_type": "stream",
          "name": "stdout",
          "text": [
            "True\n",
            "False\n",
            "True\n",
            "False\n",
            "False\n",
            "True\n"
          ]
        }
      ]
    },
    {
      "cell_type": "code",
      "metadata": {
        "colab": {
          "base_uri": "https://localhost:8080/"
        },
        "id": "SgUcksiaiW8b",
        "outputId": "2c5afdbe-960e-4065-e916-b1552c3dc53c"
      },
      "source": [
        "# Logical Operators (and, or, not) -> --> return True/False \n",
        "print(3<4 and 4>56) # True and False --> False\n",
        "print(3<4 or 4>56) #  T\n",
        "print(32<4 or 4>56) #  F\n",
        "print( not (78<45)) # not False --> True\n",
        "print(not not True) # not (not True) -> not False -> True\n",
        "print( (not 23<45)  and not(not 34<45) ) # (not True) and not(not True) -> False and True"
      ],
      "execution_count": null,
      "outputs": [
        {
          "output_type": "stream",
          "name": "stdout",
          "text": [
            "False\n",
            "True\n",
            "False\n",
            "True\n",
            "True\n",
            "False\n"
          ]
        }
      ]
    },
    {
      "cell_type": "code",
      "metadata": {
        "colab": {
          "base_uri": "https://localhost:8080/"
        },
        "id": "ARUmnwYspWcs",
        "outputId": "94c3fa10-c894-49de-df81-3aa061f6ae9c"
      },
      "source": [
        "# Membership Operators (in, not in) --> return True/False \n",
        "numList = [3,4,5]\n",
        "\n",
        "print(4 in numList) # True\n",
        "print('aniket' in numList) # False\n",
        "print(4 not in numList) # False\n",
        "print('ani' in 'aniket')"
      ],
      "execution_count": null,
      "outputs": [
        {
          "output_type": "stream",
          "name": "stdout",
          "text": [
            "True\n",
            "False\n",
            "False\n",
            "True\n"
          ]
        }
      ]
    },
    {
      "cell_type": "code",
      "metadata": {
        "colab": {
          "base_uri": "https://localhost:8080/"
        },
        "id": "NW_nXVj7iW6R",
        "outputId": "afba2fcf-19e4-4183-d770-63078a021711"
      },
      "source": [
        "# Identity Operators (is ,is not) --> return True/False \n",
        "\n",
        "print('kite' is 'flag') # False\n",
        "print(34 is not 45) # True\n",
        "print('---------------------------')\n",
        "x = 56\n",
        "y = x\n",
        "\n",
        "print(x is y) # ==\n",
        "x = 45\n",
        "print(x is not y) # !="
      ],
      "execution_count": null,
      "outputs": [
        {
          "output_type": "stream",
          "name": "stdout",
          "text": [
            "False\n",
            "True\n",
            "---------------------------\n",
            "True\n",
            "False\n"
          ]
        }
      ]
    },
    {
      "cell_type": "code",
      "metadata": {
        "colab": {
          "base_uri": "https://localhost:8080/",
          "height": 53
        },
        "id": "xOQX2JVgiW3C",
        "outputId": "e04cdd34-0e43-49c2-acae-a1071eed0d72"
      },
      "source": [
        "# Bitwise Operators (&, |, ~, ^,>>,<<) --> return Value\n",
        "\n",
        "print(3 | 4) # bitwise OR operator\n",
        "\n",
        "'''\n",
        "# 3 -> 0011\n",
        "       |\n",
        "# 4 -> 0100\n",
        "      ------\n",
        "       0111(Binary) --> 7(Decimal)\n",
        "\n",
        "'''\n",
        "\n"
      ],
      "execution_count": null,
      "outputs": [
        {
          "output_type": "stream",
          "name": "stdout",
          "text": [
            "7\n"
          ]
        },
        {
          "output_type": "execute_result",
          "data": {
            "application/vnd.google.colaboratory.intrinsic+json": {
              "type": "string"
            },
            "text/plain": [
              "'\\n# 3 -> 0011\\n       |\\n# 4 -> 0100\\n      ------\\n       0111 --> 7\\n\\n'"
            ]
          },
          "metadata": {},
          "execution_count": 43
        }
      ]
    },
    {
      "cell_type": "code",
      "metadata": {
        "colab": {
          "base_uri": "https://localhost:8080/",
          "height": 53
        },
        "id": "UpopcyoOiWmn",
        "outputId": "7a67b5a9-d721-46c7-90f0-6eb766c69b71"
      },
      "source": [
        "\n",
        "print(3 & 4) # bitwise AND operator\n",
        "\n",
        "'''\n",
        "# 3 -> 0011\n",
        "       &\n",
        "# 4 -> 0100\n",
        "      ------\n",
        "       0000 -> 0\n",
        "\n",
        "'''\n"
      ],
      "execution_count": null,
      "outputs": [
        {
          "output_type": "stream",
          "name": "stdout",
          "text": [
            "0\n"
          ]
        },
        {
          "output_type": "execute_result",
          "data": {
            "application/vnd.google.colaboratory.intrinsic+json": {
              "type": "string"
            },
            "text/plain": [
              "'\\n# 3 -> 0011\\n       &\\n# 4 -> 0100\\n      ------\\n       0000 -> 0\\n\\n'"
            ]
          },
          "metadata": {},
          "execution_count": 44
        }
      ]
    },
    {
      "cell_type": "code",
      "metadata": {
        "colab": {
          "base_uri": "https://localhost:8080/",
          "height": 70
        },
        "id": "vWWwdMAGiSnh",
        "outputId": "3a529c82-5eee-4016-caf9-f5b960ab36e6"
      },
      "source": [
        "\n",
        "print(8 >> 2) # bitwise Right-shift operator\n",
        "\n",
        "'''\n",
        "# 8 -> 1000 -> shift every bit towards right by 2 positions -> \n",
        "        -> 1 pos\n",
        "       0100\n",
        "          -> 1 pos\n",
        "          0010  -> 2\n",
        "\n",
        "'''\n"
      ],
      "execution_count": null,
      "outputs": [
        {
          "output_type": "stream",
          "name": "stdout",
          "text": [
            "2\n"
          ]
        },
        {
          "output_type": "execute_result",
          "data": {
            "application/vnd.google.colaboratory.intrinsic+json": {
              "type": "string"
            },
            "text/plain": [
              "'\\n# 8 -> 1000 -> shift every bit towards right by 2 positions -> \\n        -> 1 pos\\n       0100\\n          -> 1 pos\\n          0010  -> 2\\n\\n'"
            ]
          },
          "metadata": {},
          "execution_count": 45
        }
      ]
    },
    {
      "cell_type": "code",
      "metadata": {
        "colab": {
          "base_uri": "https://localhost:8080/",
          "height": 53
        },
        "id": "EO2IC5OOto5k",
        "outputId": "de351346-3577-4183-c8ca-f0535106aeac"
      },
      "source": [
        "\n",
        "print(1 << 2) # bitwise Left-shift operator [value] operator [pos]\n",
        "\n",
        "'''\n",
        "# 1 -> 0001 -> shift every bit towards left by 2 positions -> 0100 -> 4\n",
        " \n",
        "\n",
        "'''\n"
      ],
      "execution_count": null,
      "outputs": [
        {
          "output_type": "stream",
          "name": "stdout",
          "text": [
            "4\n"
          ]
        },
        {
          "output_type": "execute_result",
          "data": {
            "application/vnd.google.colaboratory.intrinsic+json": {
              "type": "string"
            },
            "text/plain": [
              "'\\n# 1 -> 0001 -> shift every bit towards left by 2 positions -> 0100 -> 4\\n \\n\\n'"
            ]
          },
          "metadata": {},
          "execution_count": 46
        }
      ]
    },
    {
      "cell_type": "code",
      "metadata": {
        "colab": {
          "base_uri": "https://localhost:8080/"
        },
        "id": "38gYvIuMuKLw",
        "outputId": "fc5d8131-8afe-4b71-fae8-537b54fc0620"
      },
      "source": [
        "# Assignment Operators(=,+=,-=,/=,*=)\n",
        "\n",
        "x = 45\n",
        "print(x)\n",
        "x += 1  # x = x+1\n",
        "print(x)\n",
        "\n",
        "print('-----------------------')\n",
        "x = 45\n",
        "print(x)\n",
        "x *= 2  # x = x * 2\n",
        "print(x)"
      ],
      "execution_count": null,
      "outputs": [
        {
          "output_type": "stream",
          "name": "stdout",
          "text": [
            "45\n",
            "46\n",
            "-----------------------\n",
            "45\n",
            "90\n"
          ]
        }
      ]
    },
    {
      "cell_type": "code",
      "metadata": {
        "id": "0MdBZgMWuv_1"
      },
      "source": [
        "# Conditional Structures (if-elif-else)\n",
        "\n",
        "if 4<5:\n",
        "  print('hello')\n",
        "else:\n",
        "  print('world')\n"
      ],
      "execution_count": null,
      "outputs": []
    },
    {
      "cell_type": "code",
      "metadata": {
        "colab": {
          "base_uri": "https://localhost:8080/"
        },
        "id": "knHgC9GSvHhU",
        "outputId": "31258c1f-c4c6-45ee-fbbf-277ea12343c8"
      },
      "source": [
        "age = 34\n",
        "if age>=18:\n",
        "  print('welcome')\n",
        "elif age>=65:\n",
        "  print('Caution')\n",
        "else:\n",
        "  print('Entry Restricted')\n"
      ],
      "execution_count": null,
      "outputs": [
        {
          "output_type": "stream",
          "name": "stdout",
          "text": [
            "welcome\n"
          ]
        }
      ]
    },
    {
      "cell_type": "code",
      "metadata": {
        "colab": {
          "base_uri": "https://localhost:8080/"
        },
        "id": "AoFjlECjvnMz",
        "outputId": "79cb5602-385e-4636-9a4f-9443d90f3b6e"
      },
      "source": [
        "# Scope  down the requirements - > a customer having the age in the range of 18-65 should only be allowed in the sport club\n",
        "# Test Scenario ---> Acceptance Criteria\n",
        "# age < 0       ---> Invalid Age\n",
        "# age > 100     ---> Invalid Age\n",
        "# age = 18      ---> Welcome\n",
        "# age = 100     ---> Caution\n",
        "# age = 65      ---> Welcome\n",
        "# age = 1       ---> Entry Restricted\n",
        "# age = 0       ---> Invalid Age"
      ],
      "execution_count": null,
      "outputs": [
        {
          "output_type": "stream",
          "name": "stdout",
          "text": [
            "Entry Restricted\n"
          ]
        }
      ]
    },
    {
      "cell_type": "code",
      "metadata": {
        "colab": {
          "base_uri": "https://localhost:8080/"
        },
        "id": "yUwWzpdP0-xN",
        "outputId": "be5ef6c2-ac69-45a3-e576-fe257910060a"
      },
      "source": [
        "# Nested if-else -> if within if block\n",
        "age = 20\n",
        "\n",
        "if age <= 0 or age > 100:\n",
        "  print('Invalid Age')\n",
        "else:\n",
        "  if age>=18 and age<=65:\n",
        "    print('Welcome')\n",
        "  elif age>65:\n",
        "    print('Caution')\n",
        "  else:\n",
        "    print('Entry Restricted')"
      ],
      "execution_count": null,
      "outputs": [
        {
          "output_type": "stream",
          "name": "stdout",
          "text": [
            "Welcome\n"
          ]
        }
      ]
    },
    {
      "cell_type": "code",
      "metadata": {
        "colab": {
          "base_uri": "https://localhost:8080/",
          "height": 167
        },
        "id": "PyJ6qes04mF7",
        "outputId": "81b1d1f9-49ff-4b52-d385-c3834c6b41ed"
      },
      "source": [
        "print(3/0)"
      ],
      "execution_count": null,
      "outputs": [
        {
          "output_type": "error",
          "ename": "ZeroDivisionError",
          "evalue": "ignored",
          "traceback": [
            "\u001b[0;31m---------------------------------------------------------------------------\u001b[0m",
            "\u001b[0;31mZeroDivisionError\u001b[0m                         Traceback (most recent call last)",
            "\u001b[0;32m<ipython-input-75-cad2735971bf>\u001b[0m in \u001b[0;36m<module>\u001b[0;34m()\u001b[0m\n\u001b[0;32m----> 1\u001b[0;31m \u001b[0mprint\u001b[0m\u001b[0;34m(\u001b[0m\u001b[0;36m3\u001b[0m\u001b[0;34m/\u001b[0m\u001b[0;36m0\u001b[0m\u001b[0;34m)\u001b[0m \u001b[0;31m#--> Infinity\u001b[0m\u001b[0;34m\u001b[0m\u001b[0;34m\u001b[0m\u001b[0m\n\u001b[0m",
            "\u001b[0;31mZeroDivisionError\u001b[0m: division by zero"
          ]
        }
      ]
    },
    {
      "cell_type": "code",
      "metadata": {
        "colab": {
          "base_uri": "https://localhost:8080/",
          "height": 132
        },
        "id": "aBVAnmXS48OB",
        "outputId": "450112f2-3c39-495a-a087-7d391a3dda9d"
      },
      "source": [
        "print('hello') \n",
        "  print('world')"
      ],
      "execution_count": null,
      "outputs": [
        {
          "output_type": "error",
          "ename": "IndentationError",
          "evalue": "ignored",
          "traceback": [
            "\u001b[0;36m  File \u001b[0;32m\"<ipython-input-78-b8bb5b1a982d>\"\u001b[0;36m, line \u001b[0;32m2\u001b[0m\n\u001b[0;31m    print('world')\u001b[0m\n\u001b[0m    ^\u001b[0m\n\u001b[0;31mIndentationError\u001b[0m\u001b[0;31m:\u001b[0m unexpected indent\n"
          ]
        }
      ]
    },
    {
      "cell_type": "code",
      "metadata": {
        "colab": {
          "base_uri": "https://localhost:8080/",
          "height": 167
        },
        "id": "uO8WuGBE5XI8",
        "outputId": "d149fb24-94da-4704-b753-d05f098dfcd7"
      },
      "source": [
        "# python is case-sensitive language\n",
        "PRINT('hello')"
      ],
      "execution_count": null,
      "outputs": [
        {
          "output_type": "error",
          "ename": "NameError",
          "evalue": "ignored",
          "traceback": [
            "\u001b[0;31m---------------------------------------------------------------------------\u001b[0m",
            "\u001b[0;31mNameError\u001b[0m                                 Traceback (most recent call last)",
            "\u001b[0;32m<ipython-input-79-fa940ce6d00f>\u001b[0m in \u001b[0;36m<module>\u001b[0;34m()\u001b[0m\n\u001b[0;32m----> 1\u001b[0;31m \u001b[0mPRINT\u001b[0m\u001b[0;34m(\u001b[0m\u001b[0;34m'hello'\u001b[0m\u001b[0;34m)\u001b[0m\u001b[0;34m\u001b[0m\u001b[0;34m\u001b[0m\u001b[0m\n\u001b[0m",
            "\u001b[0;31mNameError\u001b[0m: name 'PRINT' is not defined"
          ]
        }
      ]
    },
    {
      "cell_type": "code",
      "metadata": {
        "colab": {
          "base_uri": "https://localhost:8080/",
          "height": 185
        },
        "id": "D-ndb6g_5lEt",
        "outputId": "8eed50c5-2162-4232-dd94-f4cef9ec0600"
      },
      "source": [
        "y = 90\n",
        "print(Y)"
      ],
      "execution_count": null,
      "outputs": [
        {
          "output_type": "error",
          "ename": "NameError",
          "evalue": "ignored",
          "traceback": [
            "\u001b[0;31m---------------------------------------------------------------------------\u001b[0m",
            "\u001b[0;31mNameError\u001b[0m                                 Traceback (most recent call last)",
            "\u001b[0;32m<ipython-input-80-0e0c6eb4af55>\u001b[0m in \u001b[0;36m<module>\u001b[0;34m()\u001b[0m\n\u001b[1;32m      1\u001b[0m \u001b[0my\u001b[0m \u001b[0;34m=\u001b[0m \u001b[0;36m90\u001b[0m\u001b[0;34m\u001b[0m\u001b[0;34m\u001b[0m\u001b[0m\n\u001b[0;32m----> 2\u001b[0;31m \u001b[0mprint\u001b[0m\u001b[0;34m(\u001b[0m\u001b[0mY\u001b[0m\u001b[0;34m)\u001b[0m\u001b[0;34m\u001b[0m\u001b[0;34m\u001b[0m\u001b[0m\n\u001b[0m",
            "\u001b[0;31mNameError\u001b[0m: name 'Y' is not defined"
          ]
        }
      ]
    },
    {
      "cell_type": "code",
      "metadata": {
        "id": "lqLp2_SUABeW"
      },
      "source": [
        "# 1. WAP To find the given number is even or odd\n",
        "# 2. WAp to find the given year is leap year or not\n",
        "# 3. WAP to find volume of sphere\n",
        "# 4. WAP to find the number is pos or neg\n",
        "# 5. WAP to calculate compound interest\n",
        "# 6. 5+34*2**3//4  -> Order of Precedence\n"
      ],
      "execution_count": null,
      "outputs": []
    }
  ]
}